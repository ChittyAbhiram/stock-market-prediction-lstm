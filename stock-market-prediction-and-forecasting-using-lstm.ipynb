{
 "cells": [
  {
   "cell_type": "markdown",
   "metadata": {},
   "source": [
    "Task 2 - Stock Market Prediction And Forecasting Using Stacked LSTM\n",
    "\n",
    "Link for the dataset: https://raw.githubusercontent.com/mwitiderrick/stockprice/master/NSE-TATAGLOBAL.csv"
   ]
  },
  {
   "cell_type": "code",
   "execution_count": 1,
   "metadata": {
    "execution": {
     "iopub.execute_input": "2022-04-11T04:52:33.484629Z",
     "iopub.status.busy": "2022-04-11T04:52:33.484347Z",
     "iopub.status.idle": "2022-04-11T04:52:34.359517Z",
     "shell.execute_reply": "2022-04-11T04:52:34.358786Z",
     "shell.execute_reply.started": "2022-04-11T04:52:33.484594Z"
    }
   },
   "outputs": [],
   "source": [
    "import pandas as pd\n",
    "import numpy as np\n",
    "import seaborn as sns\n",
    "import matplotlib.pyplot as plt\n",
    "%matplotlib inline"
   ]
  },
  {
   "cell_type": "code",
   "execution_count": 43,
   "metadata": {
    "execution": {
     "iopub.execute_input": "2022-04-11T04:52:34.360978Z",
     "iopub.status.busy": "2022-04-11T04:52:34.360740Z",
     "iopub.status.idle": "2022-04-11T04:52:34.624948Z",
     "shell.execute_reply": "2022-04-11T04:52:34.624130Z",
     "shell.execute_reply.started": "2022-04-11T04:52:34.360947Z"
    }
   },
   "outputs": [
    {
     "data": {
      "text/html": [
       "<div>\n",
       "<style scoped>\n",
       "    .dataframe tbody tr th:only-of-type {\n",
       "        vertical-align: middle;\n",
       "    }\n",
       "\n",
       "    .dataframe tbody tr th {\n",
       "        vertical-align: top;\n",
       "    }\n",
       "\n",
       "    .dataframe thead th {\n",
       "        text-align: right;\n",
       "    }\n",
       "</style>\n",
       "<table border=\"1\" class=\"dataframe\">\n",
       "  <thead>\n",
       "    <tr style=\"text-align: right;\">\n",
       "      <th></th>\n",
       "      <th>Date</th>\n",
       "      <th>Open</th>\n",
       "      <th>High</th>\n",
       "      <th>Low</th>\n",
       "      <th>Last</th>\n",
       "      <th>Close</th>\n",
       "      <th>Total Trade Quantity</th>\n",
       "      <th>Turnover (Lacs)</th>\n",
       "    </tr>\n",
       "  </thead>\n",
       "  <tbody>\n",
       "    <tr>\n",
       "      <th>2034</th>\n",
       "      <td>2010-07-21</td>\n",
       "      <td>122.1</td>\n",
       "      <td>123.00</td>\n",
       "      <td>121.05</td>\n",
       "      <td>121.10</td>\n",
       "      <td>121.55</td>\n",
       "      <td>658666</td>\n",
       "      <td>803.56</td>\n",
       "    </tr>\n",
       "    <tr>\n",
       "      <th>2033</th>\n",
       "      <td>2010-07-22</td>\n",
       "      <td>120.3</td>\n",
       "      <td>122.00</td>\n",
       "      <td>120.25</td>\n",
       "      <td>120.75</td>\n",
       "      <td>120.90</td>\n",
       "      <td>293312</td>\n",
       "      <td>355.17</td>\n",
       "    </tr>\n",
       "    <tr>\n",
       "      <th>2032</th>\n",
       "      <td>2010-07-23</td>\n",
       "      <td>121.8</td>\n",
       "      <td>121.95</td>\n",
       "      <td>120.25</td>\n",
       "      <td>120.35</td>\n",
       "      <td>120.65</td>\n",
       "      <td>281312</td>\n",
       "      <td>340.31</td>\n",
       "    </tr>\n",
       "    <tr>\n",
       "      <th>2031</th>\n",
       "      <td>2010-07-26</td>\n",
       "      <td>120.1</td>\n",
       "      <td>121.00</td>\n",
       "      <td>117.10</td>\n",
       "      <td>117.10</td>\n",
       "      <td>117.60</td>\n",
       "      <td>658440</td>\n",
       "      <td>780.01</td>\n",
       "    </tr>\n",
       "    <tr>\n",
       "      <th>2030</th>\n",
       "      <td>2010-07-27</td>\n",
       "      <td>117.6</td>\n",
       "      <td>119.50</td>\n",
       "      <td>112.00</td>\n",
       "      <td>118.80</td>\n",
       "      <td>118.65</td>\n",
       "      <td>586100</td>\n",
       "      <td>694.98</td>\n",
       "    </tr>\n",
       "  </tbody>\n",
       "</table>\n",
       "</div>"
      ],
      "text/plain": [
       "            Date   Open    High     Low    Last   Close  Total Trade Quantity  \\\n",
       "2034  2010-07-21  122.1  123.00  121.05  121.10  121.55                658666   \n",
       "2033  2010-07-22  120.3  122.00  120.25  120.75  120.90                293312   \n",
       "2032  2010-07-23  121.8  121.95  120.25  120.35  120.65                281312   \n",
       "2031  2010-07-26  120.1  121.00  117.10  117.10  117.60                658440   \n",
       "2030  2010-07-27  117.6  119.50  112.00  118.80  118.65                586100   \n",
       "\n",
       "      Turnover (Lacs)  \n",
       "2034           803.56  \n",
       "2033           355.17  \n",
       "2032           340.31  \n",
       "2031           780.01  \n",
       "2030           694.98  "
      ]
     },
     "execution_count": 43,
     "metadata": {},
     "output_type": "execute_result"
    }
   ],
   "source": [
    "data =pd.read_csv('https://raw.githubusercontent.com/mwitiderrick/stockprice/master/NSE-TATAGLOBAL.csv')\n",
    "data=data.iloc[::-1]\n",
    "data.head()"
   ]
  },
  {
   "cell_type": "code",
   "execution_count": 44,
   "metadata": {
    "execution": {
     "iopub.execute_input": "2022-04-11T04:52:34.626703Z",
     "iopub.status.busy": "2022-04-11T04:52:34.626320Z",
     "iopub.status.idle": "2022-04-11T04:52:34.640787Z",
     "shell.execute_reply": "2022-04-11T04:52:34.639956Z",
     "shell.execute_reply.started": "2022-04-11T04:52:34.626659Z"
    }
   },
   "outputs": [
    {
     "data": {
      "text/html": [
       "<div>\n",
       "<style scoped>\n",
       "    .dataframe tbody tr th:only-of-type {\n",
       "        vertical-align: middle;\n",
       "    }\n",
       "\n",
       "    .dataframe tbody tr th {\n",
       "        vertical-align: top;\n",
       "    }\n",
       "\n",
       "    .dataframe thead th {\n",
       "        text-align: right;\n",
       "    }\n",
       "</style>\n",
       "<table border=\"1\" class=\"dataframe\">\n",
       "  <thead>\n",
       "    <tr style=\"text-align: right;\">\n",
       "      <th></th>\n",
       "      <th>Date</th>\n",
       "      <th>Open</th>\n",
       "      <th>High</th>\n",
       "      <th>Low</th>\n",
       "      <th>Last</th>\n",
       "      <th>Close</th>\n",
       "      <th>Total Trade Quantity</th>\n",
       "      <th>Turnover (Lacs)</th>\n",
       "    </tr>\n",
       "  </thead>\n",
       "  <tbody>\n",
       "    <tr>\n",
       "      <th>4</th>\n",
       "      <td>2018-09-24</td>\n",
       "      <td>233.55</td>\n",
       "      <td>239.20</td>\n",
       "      <td>230.75</td>\n",
       "      <td>234.00</td>\n",
       "      <td>233.30</td>\n",
       "      <td>3423509</td>\n",
       "      <td>7999.55</td>\n",
       "    </tr>\n",
       "    <tr>\n",
       "      <th>3</th>\n",
       "      <td>2018-09-25</td>\n",
       "      <td>233.30</td>\n",
       "      <td>236.75</td>\n",
       "      <td>232.00</td>\n",
       "      <td>236.25</td>\n",
       "      <td>236.10</td>\n",
       "      <td>2349368</td>\n",
       "      <td>5503.90</td>\n",
       "    </tr>\n",
       "    <tr>\n",
       "      <th>2</th>\n",
       "      <td>2018-09-26</td>\n",
       "      <td>240.00</td>\n",
       "      <td>240.00</td>\n",
       "      <td>232.50</td>\n",
       "      <td>235.00</td>\n",
       "      <td>234.25</td>\n",
       "      <td>2240909</td>\n",
       "      <td>5248.60</td>\n",
       "    </tr>\n",
       "    <tr>\n",
       "      <th>1</th>\n",
       "      <td>2018-09-27</td>\n",
       "      <td>234.55</td>\n",
       "      <td>236.80</td>\n",
       "      <td>231.10</td>\n",
       "      <td>233.80</td>\n",
       "      <td>233.25</td>\n",
       "      <td>5082859</td>\n",
       "      <td>11859.95</td>\n",
       "    </tr>\n",
       "    <tr>\n",
       "      <th>0</th>\n",
       "      <td>2018-09-28</td>\n",
       "      <td>234.05</td>\n",
       "      <td>235.95</td>\n",
       "      <td>230.20</td>\n",
       "      <td>233.50</td>\n",
       "      <td>233.75</td>\n",
       "      <td>3069914</td>\n",
       "      <td>7162.35</td>\n",
       "    </tr>\n",
       "  </tbody>\n",
       "</table>\n",
       "</div>"
      ],
      "text/plain": [
       "         Date    Open    High     Low    Last   Close  Total Trade Quantity  \\\n",
       "4  2018-09-24  233.55  239.20  230.75  234.00  233.30               3423509   \n",
       "3  2018-09-25  233.30  236.75  232.00  236.25  236.10               2349368   \n",
       "2  2018-09-26  240.00  240.00  232.50  235.00  234.25               2240909   \n",
       "1  2018-09-27  234.55  236.80  231.10  233.80  233.25               5082859   \n",
       "0  2018-09-28  234.05  235.95  230.20  233.50  233.75               3069914   \n",
       "\n",
       "   Turnover (Lacs)  \n",
       "4          7999.55  \n",
       "3          5503.90  \n",
       "2          5248.60  \n",
       "1         11859.95  \n",
       "0          7162.35  "
      ]
     },
     "execution_count": 44,
     "metadata": {},
     "output_type": "execute_result"
    }
   ],
   "source": [
    "data.tail()"
   ]
  },
  {
   "cell_type": "code",
   "execution_count": 45,
   "metadata": {
    "execution": {
     "iopub.execute_input": "2022-04-11T04:52:34.643672Z",
     "iopub.status.busy": "2022-04-11T04:52:34.643169Z",
     "iopub.status.idle": "2022-04-11T04:52:34.652148Z",
     "shell.execute_reply": "2022-04-11T04:52:34.651504Z",
     "shell.execute_reply.started": "2022-04-11T04:52:34.643635Z"
    }
   },
   "outputs": [
    {
     "data": {
      "text/plain": [
       "(2035, 8)"
      ]
     },
     "execution_count": 45,
     "metadata": {},
     "output_type": "execute_result"
    }
   ],
   "source": [
    "data.shape"
   ]
  },
  {
   "cell_type": "code",
   "execution_count": 46,
   "metadata": {
    "execution": {
     "iopub.execute_input": "2022-04-11T04:52:34.653820Z",
     "iopub.status.busy": "2022-04-11T04:52:34.653573Z",
     "iopub.status.idle": "2022-04-11T04:52:34.662509Z",
     "shell.execute_reply": "2022-04-11T04:52:34.661715Z",
     "shell.execute_reply.started": "2022-04-11T04:52:34.653787Z"
    }
   },
   "outputs": [
    {
     "data": {
      "text/plain": [
       "Index(['Date', 'Open', 'High', 'Low', 'Last', 'Close', 'Total Trade Quantity',\n",
       "       'Turnover (Lacs)'],\n",
       "      dtype='object')"
      ]
     },
     "execution_count": 46,
     "metadata": {},
     "output_type": "execute_result"
    }
   ],
   "source": [
    "data.columns"
   ]
  },
  {
   "cell_type": "code",
   "execution_count": 47,
   "metadata": {
    "execution": {
     "iopub.execute_input": "2022-04-11T04:52:34.664956Z",
     "iopub.status.busy": "2022-04-11T04:52:34.663875Z",
     "iopub.status.idle": "2022-04-11T04:52:34.690679Z",
     "shell.execute_reply": "2022-04-11T04:52:34.689724Z",
     "shell.execute_reply.started": "2022-04-11T04:52:34.664918Z"
    }
   },
   "outputs": [
    {
     "name": "stdout",
     "output_type": "stream",
     "text": [
      "<class 'pandas.core.frame.DataFrame'>\n",
      "RangeIndex: 2035 entries, 2034 to 0\n",
      "Data columns (total 8 columns):\n",
      " #   Column                Non-Null Count  Dtype  \n",
      "---  ------                --------------  -----  \n",
      " 0   Date                  2035 non-null   object \n",
      " 1   Open                  2035 non-null   float64\n",
      " 2   High                  2035 non-null   float64\n",
      " 3   Low                   2035 non-null   float64\n",
      " 4   Last                  2035 non-null   float64\n",
      " 5   Close                 2035 non-null   float64\n",
      " 6   Total Trade Quantity  2035 non-null   int64  \n",
      " 7   Turnover (Lacs)       2035 non-null   float64\n",
      "dtypes: float64(6), int64(1), object(1)\n",
      "memory usage: 127.3+ KB\n"
     ]
    }
   ],
   "source": [
    "data.info()"
   ]
  },
  {
   "cell_type": "code",
   "execution_count": 48,
   "metadata": {
    "execution": {
     "iopub.execute_input": "2022-04-11T04:52:34.692913Z",
     "iopub.status.busy": "2022-04-11T04:52:34.692377Z",
     "iopub.status.idle": "2022-04-11T04:52:34.725788Z",
     "shell.execute_reply": "2022-04-11T04:52:34.725094Z",
     "shell.execute_reply.started": "2022-04-11T04:52:34.692836Z"
    }
   },
   "outputs": [
    {
     "data": {
      "text/html": [
       "<div>\n",
       "<style scoped>\n",
       "    .dataframe tbody tr th:only-of-type {\n",
       "        vertical-align: middle;\n",
       "    }\n",
       "\n",
       "    .dataframe tbody tr th {\n",
       "        vertical-align: top;\n",
       "    }\n",
       "\n",
       "    .dataframe thead th {\n",
       "        text-align: right;\n",
       "    }\n",
       "</style>\n",
       "<table border=\"1\" class=\"dataframe\">\n",
       "  <thead>\n",
       "    <tr style=\"text-align: right;\">\n",
       "      <th></th>\n",
       "      <th>Open</th>\n",
       "      <th>High</th>\n",
       "      <th>Low</th>\n",
       "      <th>Last</th>\n",
       "      <th>Close</th>\n",
       "      <th>Total Trade Quantity</th>\n",
       "      <th>Turnover (Lacs)</th>\n",
       "    </tr>\n",
       "  </thead>\n",
       "  <tbody>\n",
       "    <tr>\n",
       "      <th>count</th>\n",
       "      <td>2035.000000</td>\n",
       "      <td>2035.000000</td>\n",
       "      <td>2035.000000</td>\n",
       "      <td>2035.000000</td>\n",
       "      <td>2035.00000</td>\n",
       "      <td>2.035000e+03</td>\n",
       "      <td>2035.000000</td>\n",
       "    </tr>\n",
       "    <tr>\n",
       "      <th>mean</th>\n",
       "      <td>149.713735</td>\n",
       "      <td>151.992826</td>\n",
       "      <td>147.293931</td>\n",
       "      <td>149.474251</td>\n",
       "      <td>149.45027</td>\n",
       "      <td>2.335681e+06</td>\n",
       "      <td>3899.980565</td>\n",
       "    </tr>\n",
       "    <tr>\n",
       "      <th>std</th>\n",
       "      <td>48.664509</td>\n",
       "      <td>49.413109</td>\n",
       "      <td>47.931958</td>\n",
       "      <td>48.732570</td>\n",
       "      <td>48.71204</td>\n",
       "      <td>2.091778e+06</td>\n",
       "      <td>4570.767877</td>\n",
       "    </tr>\n",
       "    <tr>\n",
       "      <th>min</th>\n",
       "      <td>81.100000</td>\n",
       "      <td>82.800000</td>\n",
       "      <td>80.000000</td>\n",
       "      <td>81.000000</td>\n",
       "      <td>80.95000</td>\n",
       "      <td>3.961000e+04</td>\n",
       "      <td>37.040000</td>\n",
       "    </tr>\n",
       "    <tr>\n",
       "      <th>25%</th>\n",
       "      <td>120.025000</td>\n",
       "      <td>122.100000</td>\n",
       "      <td>118.300000</td>\n",
       "      <td>120.075000</td>\n",
       "      <td>120.05000</td>\n",
       "      <td>1.146444e+06</td>\n",
       "      <td>1427.460000</td>\n",
       "    </tr>\n",
       "    <tr>\n",
       "      <th>50%</th>\n",
       "      <td>141.500000</td>\n",
       "      <td>143.400000</td>\n",
       "      <td>139.600000</td>\n",
       "      <td>141.100000</td>\n",
       "      <td>141.25000</td>\n",
       "      <td>1.783456e+06</td>\n",
       "      <td>2512.030000</td>\n",
       "    </tr>\n",
       "    <tr>\n",
       "      <th>75%</th>\n",
       "      <td>157.175000</td>\n",
       "      <td>159.400000</td>\n",
       "      <td>155.150000</td>\n",
       "      <td>156.925000</td>\n",
       "      <td>156.90000</td>\n",
       "      <td>2.813594e+06</td>\n",
       "      <td>4539.015000</td>\n",
       "    </tr>\n",
       "    <tr>\n",
       "      <th>max</th>\n",
       "      <td>327.700000</td>\n",
       "      <td>328.750000</td>\n",
       "      <td>321.650000</td>\n",
       "      <td>325.950000</td>\n",
       "      <td>325.75000</td>\n",
       "      <td>2.919102e+07</td>\n",
       "      <td>55755.080000</td>\n",
       "    </tr>\n",
       "  </tbody>\n",
       "</table>\n",
       "</div>"
      ],
      "text/plain": [
       "              Open         High          Low         Last       Close  \\\n",
       "count  2035.000000  2035.000000  2035.000000  2035.000000  2035.00000   \n",
       "mean    149.713735   151.992826   147.293931   149.474251   149.45027   \n",
       "std      48.664509    49.413109    47.931958    48.732570    48.71204   \n",
       "min      81.100000    82.800000    80.000000    81.000000    80.95000   \n",
       "25%     120.025000   122.100000   118.300000   120.075000   120.05000   \n",
       "50%     141.500000   143.400000   139.600000   141.100000   141.25000   \n",
       "75%     157.175000   159.400000   155.150000   156.925000   156.90000   \n",
       "max     327.700000   328.750000   321.650000   325.950000   325.75000   \n",
       "\n",
       "       Total Trade Quantity  Turnover (Lacs)  \n",
       "count          2.035000e+03      2035.000000  \n",
       "mean           2.335681e+06      3899.980565  \n",
       "std            2.091778e+06      4570.767877  \n",
       "min            3.961000e+04        37.040000  \n",
       "25%            1.146444e+06      1427.460000  \n",
       "50%            1.783456e+06      2512.030000  \n",
       "75%            2.813594e+06      4539.015000  \n",
       "max            2.919102e+07     55755.080000  "
      ]
     },
     "execution_count": 48,
     "metadata": {},
     "output_type": "execute_result"
    }
   ],
   "source": [
    "data.describe()"
   ]
  },
  {
   "cell_type": "code",
   "execution_count": 49,
   "metadata": {
    "execution": {
     "iopub.execute_input": "2022-04-11T04:52:34.727550Z",
     "iopub.status.busy": "2022-04-11T04:52:34.727090Z",
     "iopub.status.idle": "2022-04-11T04:52:34.735500Z",
     "shell.execute_reply": "2022-04-11T04:52:34.734676Z",
     "shell.execute_reply.started": "2022-04-11T04:52:34.727514Z"
    }
   },
   "outputs": [
    {
     "data": {
      "text/plain": [
       "Date                    0\n",
       "Open                    0\n",
       "High                    0\n",
       "Low                     0\n",
       "Last                    0\n",
       "Close                   0\n",
       "Total Trade Quantity    0\n",
       "Turnover (Lacs)         0\n",
       "dtype: int64"
      ]
     },
     "execution_count": 49,
     "metadata": {},
     "output_type": "execute_result"
    }
   ],
   "source": [
    "#Data Preprocessing\n",
    "data.isnull().sum()"
   ]
  },
  {
   "cell_type": "code",
   "execution_count": 50,
   "metadata": {
    "execution": {
     "iopub.execute_input": "2022-04-11T04:52:34.737184Z",
     "iopub.status.busy": "2022-04-11T04:52:34.736910Z",
     "iopub.status.idle": "2022-04-11T04:52:34.750839Z",
     "shell.execute_reply": "2022-04-11T04:52:34.749910Z",
     "shell.execute_reply.started": "2022-04-11T04:52:34.737147Z"
    }
   },
   "outputs": [
    {
     "data": {
      "text/plain": [
       "False    2035\n",
       "dtype: int64"
      ]
     },
     "execution_count": 50,
     "metadata": {},
     "output_type": "execute_result"
    }
   ],
   "source": [
    "duplicates= data.duplicated()\n",
    "duplicates.value_counts() # no duplicates present"
   ]
  },
  {
   "cell_type": "code",
   "execution_count": 51,
   "metadata": {
    "execution": {
     "iopub.execute_input": "2022-04-11T04:52:34.752295Z",
     "iopub.status.busy": "2022-04-11T04:52:34.752049Z",
     "iopub.status.idle": "2022-04-11T04:52:35.241658Z",
     "shell.execute_reply": "2022-04-11T04:52:35.240994Z",
     "shell.execute_reply.started": "2022-04-11T04:52:34.752263Z"
    }
   },
   "outputs": [
    {
     "data": {
      "text/plain": [
       "<AxesSubplot:>"
      ]
     },
     "execution_count": 51,
     "metadata": {},
     "output_type": "execute_result"
    },
    {
     "data": {
      "image/png": "[encoded data removed]",
      "text/plain": [
       "<Figure size 432x432 with 2 Axes>"
      ]
     },
     "metadata": {
      "needs_background": "light"
     },
     "output_type": "display_data"
    }
   ],
   "source": [
    "plt.figure(figsize=(6,6))\n",
    "sns.heatmap(data.corr(), annot=True)"
   ]
  },
  {
   "cell_type": "code",
   "execution_count": 52,
   "metadata": {
    "execution": {
     "iopub.execute_input": "2022-04-11T04:52:35.243314Z",
     "iopub.status.busy": "2022-04-11T04:52:35.242915Z",
     "iopub.status.idle": "2022-04-11T04:52:35.444855Z",
     "shell.execute_reply": "2022-04-11T04:52:35.444183Z",
     "shell.execute_reply.started": "2022-04-11T04:52:35.243276Z"
    }
   },
   "outputs": [
    {
     "data": {
      "text/plain": [
       "[<matplotlib.lines.Line2D at 0x1cbd32a2a90>]"
      ]
     },
     "execution_count": 52,
     "metadata": {},
     "output_type": "execute_result"
    },
    {
     "data": {
      "image/png": "[encoded data removed]",
      "text/plain": [
       "<Figure size 432x288 with 1 Axes>"
      ]
     },
     "metadata": {
      "needs_background": "light"
     },
     "output_type": "display_data"
    }
   ],
   "source": [
    "data_high=data.reset_index()['High']\n",
    "plt.plot(data_high)"
   ]
  },
  {
   "cell_type": "markdown",
   "metadata": {},
   "source": [
    "As LSTM are not robust to the scale of the data, so we apply MinMax Scaler to transform our values in the range of 0 and 1."
   ]
  },
  {
   "cell_type": "code",
   "execution_count": 53,
   "metadata": {
    "execution": {
     "iopub.execute_input": "2022-04-11T04:52:35.446352Z",
     "iopub.status.busy": "2022-04-11T04:52:35.446095Z",
     "iopub.status.idle": "2022-04-11T04:52:35.564914Z",
     "shell.execute_reply": "2022-04-11T04:52:35.564167Z",
     "shell.execute_reply.started": "2022-04-11T04:52:35.446317Z"
    }
   },
   "outputs": [],
   "source": [
    "from sklearn.preprocessing import MinMaxScaler\n",
    "scaler = MinMaxScaler(feature_range = (0,1))\n",
    "data_high = scaler.fit_transform(np.array(data_high).reshape(-1,1))"
   ]
  },
  {
   "cell_type": "code",
   "execution_count": 54,
   "metadata": {
    "execution": {
     "iopub.execute_input": "2022-04-11T04:52:35.569059Z",
     "iopub.status.busy": "2022-04-11T04:52:35.568860Z",
     "iopub.status.idle": "2022-04-11T04:52:35.573789Z",
     "shell.execute_reply": "2022-04-11T04:52:35.573023Z",
     "shell.execute_reply.started": "2022-04-11T04:52:35.569034Z"
    }
   },
   "outputs": [
    {
     "data": {
      "text/plain": [
       "(2035, 1)"
      ]
     },
     "execution_count": 54,
     "metadata": {},
     "output_type": "execute_result"
    }
   ],
   "source": [
    "data_high.shape"
   ]
  },
  {
   "cell_type": "code",
   "execution_count": 55,
   "metadata": {
    "execution": {
     "iopub.execute_input": "2022-04-11T04:52:35.575695Z",
     "iopub.status.busy": "2022-04-11T04:52:35.575156Z",
     "iopub.status.idle": "2022-04-11T04:52:35.584327Z",
     "shell.execute_reply": "2022-04-11T04:52:35.583505Z",
     "shell.execute_reply.started": "2022-04-11T04:52:35.575658Z"
    }
   },
   "outputs": [
    {
     "data": {
      "text/plain": [
       "array([[0.16344786],\n",
       "       [0.15938199],\n",
       "       [0.15917869],\n",
       "       ...,\n",
       "       [0.6391543 ],\n",
       "       [0.62614353],\n",
       "       [0.62268754]])"
      ]
     },
     "execution_count": 55,
     "metadata": {},
     "output_type": "execute_result"
    }
   ],
   "source": [
    "data_high"
   ]
  },
  {
   "cell_type": "code",
   "execution_count": 56,
   "metadata": {
    "execution": {
     "iopub.execute_input": "2022-04-11T04:52:35.586349Z",
     "iopub.status.busy": "2022-04-11T04:52:35.586086Z",
     "iopub.status.idle": "2022-04-11T04:52:35.593335Z",
     "shell.execute_reply": "2022-04-11T04:52:35.592648Z",
     "shell.execute_reply.started": "2022-04-11T04:52:35.586314Z"
    }
   },
   "outputs": [],
   "source": [
    "#Split the data into train and test split\n",
    "training_size = int(len(data_high) * 0.75)\n",
    "test_size = len(data_high) - training_size\n",
    "train_data,test_data = data_high[0:training_size,:], data_high[training_size:len(data_high),:1]"
   ]
  },
  {
   "cell_type": "code",
   "execution_count": 57,
   "metadata": {
    "execution": {
     "iopub.execute_input": "2022-04-11T04:52:35.594911Z",
     "iopub.status.busy": "2022-04-11T04:52:35.594597Z",
     "iopub.status.idle": "2022-04-11T04:52:35.602977Z",
     "shell.execute_reply": "2022-04-11T04:52:35.602234Z",
     "shell.execute_reply.started": "2022-04-11T04:52:35.594876Z"
    }
   },
   "outputs": [
    {
     "data": {
      "text/plain": [
       "(1526, 509)"
      ]
     },
     "execution_count": 57,
     "metadata": {},
     "output_type": "execute_result"
    }
   ],
   "source": [
    "training_size, test_size"
   ]
  },
  {
   "cell_type": "code",
   "execution_count": 58,
   "metadata": {
    "execution": {
     "iopub.execute_input": "2022-04-11T04:52:35.604387Z",
     "iopub.status.busy": "2022-04-11T04:52:35.604106Z",
     "iopub.status.idle": "2022-04-11T04:52:35.612186Z",
     "shell.execute_reply": "2022-04-11T04:52:35.611437Z",
     "shell.execute_reply.started": "2022-04-11T04:52:35.604353Z"
    }
   },
   "outputs": [],
   "source": [
    "# convert an array of values into a dataset matrix\n",
    "def create_dataset(dataset, time_step=1):\n",
    "    dataX, dataY = [], []\n",
    "    for i in range(len(dataset)-time_step-1):\n",
    "        a = dataset[i:(i+time_step), 0]  \n",
    "        dataX.append(a)\n",
    "        dataY.append(dataset[i + time_step, 0])\n",
    "    return np.array(dataX), np.array(dataY)"
   ]
  },
  {
   "cell_type": "code",
   "execution_count": 59,
   "metadata": {
    "execution": {
     "iopub.execute_input": "2022-04-11T04:52:35.614054Z",
     "iopub.status.busy": "2022-04-11T04:52:35.613568Z",
     "iopub.status.idle": "2022-04-11T04:52:35.625941Z",
     "shell.execute_reply": "2022-04-11T04:52:35.625205Z",
     "shell.execute_reply.started": "2022-04-11T04:52:35.614019Z"
    }
   },
   "outputs": [],
   "source": [
    "time_step = 100\n",
    "x_train, y_train = create_dataset(train_data, time_step)\n",
    "x_test, y_test = create_dataset(test_data, time_step)"
   ]
  },
  {
   "cell_type": "code",
   "execution_count": 60,
   "metadata": {
    "execution": {
     "iopub.execute_input": "2022-04-11T04:52:35.627666Z",
     "iopub.status.busy": "2022-04-11T04:52:35.627205Z",
     "iopub.status.idle": "2022-04-11T04:52:35.632352Z",
     "shell.execute_reply": "2022-04-11T04:52:35.631699Z",
     "shell.execute_reply.started": "2022-04-11T04:52:35.627630Z"
    }
   },
   "outputs": [],
   "source": [
    "#Reshape the input to be [samples, time steps, features] which is the requirement of LSTM\n",
    "x_train = x_train.reshape(x_train.shape[0], x_train.shape[1], 1)\n",
    "x_test = x_test.reshape(x_test.shape[0], x_test.shape[1], 1)"
   ]
  },
  {
   "cell_type": "code",
   "execution_count": 61,
   "metadata": {
    "execution": {
     "iopub.execute_input": "2022-04-11T04:52:35.634247Z",
     "iopub.status.busy": "2022-04-11T04:52:35.633690Z",
     "iopub.status.idle": "2022-04-11T04:52:35.642386Z",
     "shell.execute_reply": "2022-04-11T04:52:35.641587Z",
     "shell.execute_reply.started": "2022-04-11T04:52:35.634099Z"
    }
   },
   "outputs": [
    {
     "name": "stdout",
     "output_type": "stream",
     "text": [
      "(1425, 100, 1)\n",
      "(1425,)\n"
     ]
    },
    {
     "data": {
      "text/plain": [
       "(None, None)"
      ]
     },
     "execution_count": 61,
     "metadata": {},
     "output_type": "execute_result"
    }
   ],
   "source": [
    "print(x_train.shape), print(y_train.shape)"
   ]
  },
  {
   "cell_type": "code",
   "execution_count": 62,
   "metadata": {
    "execution": {
     "iopub.execute_input": "2022-04-11T04:52:35.644448Z",
     "iopub.status.busy": "2022-04-11T04:52:35.643846Z",
     "iopub.status.idle": "2022-04-11T04:52:35.651456Z",
     "shell.execute_reply": "2022-04-11T04:52:35.650672Z",
     "shell.execute_reply.started": "2022-04-11T04:52:35.644317Z"
    }
   },
   "outputs": [
    {
     "name": "stdout",
     "output_type": "stream",
     "text": [
      "(408, 100, 1)\n",
      "(408,)\n"
     ]
    },
    {
     "data": {
      "text/plain": [
       "(None, None)"
      ]
     },
     "execution_count": 62,
     "metadata": {},
     "output_type": "execute_result"
    }
   ],
   "source": [
    "print(x_test.shape), print(y_test.shape)"
   ]
  },
  {
   "cell_type": "code",
   "execution_count": 63,
   "metadata": {
    "execution": {
     "iopub.execute_input": "2022-04-11T05:01:00.855993Z",
     "iopub.status.busy": "2022-04-11T05:01:00.855305Z",
     "iopub.status.idle": "2022-04-11T05:01:00.862189Z",
     "shell.execute_reply": "2022-04-11T05:01:00.861350Z",
     "shell.execute_reply.started": "2022-04-11T05:01:00.855955Z"
    }
   },
   "outputs": [],
   "source": [
    "import tensorflow as tf\n",
    "from tensorflow.python.keras.models import Sequential\n",
    "from tensorflow.python.keras.layers import Dense\n",
    "from tensorflow.python.keras.layers import LSTM"
   ]
  },
  {
   "cell_type": "code",
   "execution_count": 64,
   "metadata": {
    "execution": {
     "iopub.execute_input": "2022-04-11T05:01:01.921013Z",
     "iopub.status.busy": "2022-04-11T05:01:01.920441Z",
     "iopub.status.idle": "2022-04-11T05:01:02.247104Z",
     "shell.execute_reply": "2022-04-11T05:01:02.246329Z",
     "shell.execute_reply.started": "2022-04-11T05:01:01.920975Z"
    }
   },
   "outputs": [],
   "source": [
    "### Create the Stacked LSTM model\n",
    "model = Sequential()\n",
    "model.add(LSTM(50, return_sequences = True, input_shape = (100,1)))\n",
    "model.add(LSTM(50, return_sequences = True))\n",
    "model.add(LSTM(50))\n",
    "model.add(Dense(1))\n",
    "model.compile(loss = 'mean_squared_error', optimizer = 'adam')"
   ]
  },
  {
   "cell_type": "code",
   "execution_count": 65,
   "metadata": {
    "execution": {
     "iopub.execute_input": "2022-04-11T05:01:03.442741Z",
     "iopub.status.busy": "2022-04-11T05:01:03.442188Z",
     "iopub.status.idle": "2022-04-11T05:01:03.452260Z",
     "shell.execute_reply": "2022-04-11T05:01:03.451290Z",
     "shell.execute_reply.started": "2022-04-11T05:01:03.442704Z"
    }
   },
   "outputs": [
    {
     "name": "stdout",
     "output_type": "stream",
     "text": [
      "Model: \"sequential_1\"\n",
      "_________________________________________________________________\n",
      "Layer (type)                 Output Shape              Param #   \n",
      "=================================================================\n",
      "lstm_3 (LSTM)                (None, 100, 50)           10400     \n",
      "_________________________________________________________________\n",
      "lstm_4 (LSTM)                (None, 100, 50)           20200     \n",
      "_________________________________________________________________\n",
      "lstm_5 (LSTM)                (None, 50)                20200     \n",
      "_________________________________________________________________\n",
      "dense_1 (Dense)              (None, 1)                 51        \n",
      "=================================================================\n",
      "Total params: 50,851\n",
      "Trainable params: 50,851\n",
      "Non-trainable params: 0\n",
      "_________________________________________________________________\n"
     ]
    }
   ],
   "source": [
    "model.summary()"
   ]
  },
  {
   "cell_type": "code",
   "execution_count": 66,
   "metadata": {
    "execution": {
     "iopub.execute_input": "2022-04-11T05:01:04.755230Z",
     "iopub.status.busy": "2022-04-11T05:01:04.754596Z",
     "iopub.status.idle": "2022-04-11T05:50:54.380999Z",
     "shell.execute_reply": "2022-04-11T05:50:54.380197Z",
     "shell.execute_reply.started": "2022-04-11T05:01:04.755184Z"
    }
   },
   "outputs": [
    {
     "name": "stdout",
     "output_type": "stream",
     "text": [
      "Epoch 1/100\n",
      "23/23 [==============================] - 15s 313ms/step - loss: 0.0111 - val_loss: 0.0327\n",
      "Epoch 2/100\n",
      "23/23 [==============================] - 6s 277ms/step - loss: 0.0016 - val_loss: 0.0036\n",
      "Epoch 3/100\n",
      "23/23 [==============================] - 6s 276ms/step - loss: 8.1645e-04 - val_loss: 0.0033\n",
      "Epoch 4/100\n",
      "23/23 [==============================] - 6s 278ms/step - loss: 7.6190e-04 - val_loss: 0.0033\n",
      "Epoch 5/100\n",
      "23/23 [==============================] - 6s 277ms/step - loss: 7.4010e-04 - val_loss: 0.0027\n",
      "Epoch 6/100\n",
      "23/23 [==============================] - 6s 277ms/step - loss: 7.2493e-04 - val_loss: 0.0028\n",
      "Epoch 7/100\n",
      "23/23 [==============================] - 6s 276ms/step - loss: 7.0142e-04 - val_loss: 0.0030\n",
      "Epoch 8/100\n",
      "23/23 [==============================] - 7s 286ms/step - loss: 7.1731e-04 - val_loss: 0.0046\n",
      "Epoch 9/100\n",
      "23/23 [==============================] - 6s 277ms/step - loss: 6.7387e-04 - val_loss: 0.0029\n",
      "Epoch 10/100\n",
      "23/23 [==============================] - 7s 298ms/step - loss: 6.0425e-04 - val_loss: 0.0039\n",
      "Epoch 11/100\n",
      "23/23 [==============================] - 7s 299ms/step - loss: 5.8702e-04 - val_loss: 0.0028\n",
      "Epoch 12/100\n",
      "23/23 [==============================] - 7s 288ms/step - loss: 5.7219e-04 - val_loss: 0.0031\n",
      "Epoch 13/100\n",
      "23/23 [==============================] - 6s 277ms/step - loss: 5.6390e-04 - val_loss: 0.0025\n",
      "Epoch 14/100\n",
      "23/23 [==============================] - 6s 275ms/step - loss: 5.7079e-04 - val_loss: 0.0030\n",
      "Epoch 15/100\n",
      "23/23 [==============================] - 6s 274ms/step - loss: 5.4931e-04 - val_loss: 0.0073\n",
      "Epoch 16/100\n",
      "23/23 [==============================] - 6s 281ms/step - loss: 5.6145e-04 - val_loss: 0.0050\n",
      "Epoch 17/100\n",
      "23/23 [==============================] - 6s 275ms/step - loss: 5.2891e-04 - val_loss: 0.0066\n",
      "Epoch 18/100\n",
      "23/23 [==============================] - 6s 279ms/step - loss: 5.2368e-04 - val_loss: 0.0056\n",
      "Epoch 19/100\n",
      "23/23 [==============================] - 6s 275ms/step - loss: 4.7271e-04 - val_loss: 0.0078\n",
      "Epoch 20/100\n",
      "23/23 [==============================] - 6s 277ms/step - loss: 4.5361e-04 - val_loss: 0.0057\n",
      "Epoch 21/100\n",
      "23/23 [==============================] - 6s 276ms/step - loss: 4.5055e-04 - val_loss: 0.0075\n",
      "Epoch 22/100\n",
      "23/23 [==============================] - 6s 281ms/step - loss: 4.4230e-04 - val_loss: 0.0050\n",
      "Epoch 23/100\n",
      "23/23 [==============================] - 6s 280ms/step - loss: 4.3982e-04 - val_loss: 0.0078\n",
      "Epoch 24/100\n",
      "23/23 [==============================] - 6s 276ms/step - loss: 4.1841e-04 - val_loss: 0.0064\n",
      "Epoch 25/100\n",
      "23/23 [==============================] - 6s 272ms/step - loss: 4.4062e-04 - val_loss: 0.0060\n",
      "Epoch 26/100\n",
      "23/23 [==============================] - 6s 264ms/step - loss: 3.9780e-04 - val_loss: 0.0056\n",
      "Epoch 27/100\n",
      "23/23 [==============================] - 6s 264ms/step - loss: 3.8855e-04 - val_loss: 0.0040\n",
      "Epoch 28/100\n",
      "23/23 [==============================] - 6s 260ms/step - loss: 3.9157e-04 - val_loss: 0.0057\n",
      "Epoch 29/100\n",
      "23/23 [==============================] - 6s 260ms/step - loss: 3.6727e-04 - val_loss: 0.0043\n",
      "Epoch 30/100\n",
      "23/23 [==============================] - 6s 267ms/step - loss: 3.3991e-04 - val_loss: 0.0047\n",
      "Epoch 31/100\n",
      "23/23 [==============================] - 6s 271ms/step - loss: 3.1986e-04 - val_loss: 0.0037\n",
      "Epoch 32/100\n",
      "23/23 [==============================] - 6s 278ms/step - loss: 3.2933e-04 - val_loss: 0.0054\n",
      "Epoch 33/100\n",
      "23/23 [==============================] - 6s 274ms/step - loss: 3.0933e-04 - val_loss: 0.0040\n",
      "Epoch 34/100\n",
      "23/23 [==============================] - 6s 276ms/step - loss: 2.8754e-04 - val_loss: 0.0038\n",
      "Epoch 35/100\n",
      "23/23 [==============================] - 6s 273ms/step - loss: 2.8168e-04 - val_loss: 0.0030\n",
      "Epoch 36/100\n",
      "23/23 [==============================] - 6s 269ms/step - loss: 2.8693e-04 - val_loss: 0.0028\n",
      "Epoch 37/100\n",
      "23/23 [==============================] - 6s 270ms/step - loss: 2.8167e-04 - val_loss: 0.0030\n",
      "Epoch 38/100\n",
      "23/23 [==============================] - 6s 272ms/step - loss: 2.6017e-04 - val_loss: 0.0042\n",
      "Epoch 39/100\n",
      "23/23 [==============================] - 6s 275ms/step - loss: 2.5378e-04 - val_loss: 0.0025\n",
      "Epoch 40/100\n",
      "23/23 [==============================] - 6s 283ms/step - loss: 2.3355e-04 - val_loss: 0.0024\n",
      "Epoch 41/100\n",
      "23/23 [==============================] - 6s 264ms/step - loss: 2.2610e-04 - val_loss: 0.0013\n",
      "Epoch 42/100\n",
      "23/23 [==============================] - 6s 277ms/step - loss: 2.1872e-04 - val_loss: 0.0042\n",
      "Epoch 43/100\n",
      "23/23 [==============================] - 6s 278ms/step - loss: 2.2796e-04 - val_loss: 0.0021\n",
      "Epoch 44/100\n",
      "23/23 [==============================] - 6s 265ms/step - loss: 2.2067e-04 - val_loss: 0.0018\n",
      "Epoch 45/100\n",
      "23/23 [==============================] - 6s 270ms/step - loss: 1.9471e-04 - val_loss: 0.0025\n",
      "Epoch 46/100\n",
      "23/23 [==============================] - 6s 276ms/step - loss: 2.1703e-04 - val_loss: 0.0011\n",
      "Epoch 47/100\n",
      "23/23 [==============================] - 6s 267ms/step - loss: 2.1303e-04 - val_loss: 0.0020\n",
      "Epoch 48/100\n",
      "23/23 [==============================] - 6s 267ms/step - loss: 1.8810e-04 - val_loss: 0.0022\n",
      "Epoch 49/100\n",
      "23/23 [==============================] - 6s 269ms/step - loss: 1.8395e-04 - val_loss: 0.0017\n",
      "Epoch 50/100\n",
      "23/23 [==============================] - 6s 270ms/step - loss: 1.7618e-04 - val_loss: 5.8781e-04\n",
      "Epoch 51/100\n",
      "23/23 [==============================] - 6s 270ms/step - loss: 1.6875e-04 - val_loss: 0.0023\n",
      "Epoch 52/100\n",
      "23/23 [==============================] - 6s 269ms/step - loss: 1.6760e-04 - val_loss: 0.0012\n",
      "Epoch 53/100\n",
      "23/23 [==============================] - 6s 271ms/step - loss: 1.6964e-04 - val_loss: 0.0014\n",
      "Epoch 54/100\n",
      "23/23 [==============================] - 6s 269ms/step - loss: 1.7478e-04 - val_loss: 0.0020\n",
      "Epoch 55/100\n",
      "23/23 [==============================] - 6s 269ms/step - loss: 1.5792e-04 - val_loss: 9.1254e-04\n",
      "Epoch 56/100\n",
      "23/23 [==============================] - 6s 270ms/step - loss: 1.7828e-04 - val_loss: 0.0016\n",
      "Epoch 57/100\n",
      "23/23 [==============================] - 6s 274ms/step - loss: 1.5385e-04 - val_loss: 6.5072e-04\n",
      "Epoch 58/100\n",
      "23/23 [==============================] - 6s 272ms/step - loss: 1.4664e-04 - val_loss: 0.0014\n",
      "Epoch 59/100\n",
      "23/23 [==============================] - 6s 271ms/step - loss: 1.5977e-04 - val_loss: 4.7766e-04\n",
      "Epoch 60/100\n",
      "23/23 [==============================] - 6s 269ms/step - loss: 1.5395e-04 - val_loss: 9.9793e-04\n",
      "Epoch 61/100\n",
      "23/23 [==============================] - 6s 270ms/step - loss: 1.4190e-04 - val_loss: 5.3225e-04\n",
      "Epoch 62/100\n",
      "23/23 [==============================] - 6s 270ms/step - loss: 1.3903e-04 - val_loss: 0.0020\n",
      "Epoch 63/100\n",
      "23/23 [==============================] - 6s 271ms/step - loss: 1.4912e-04 - val_loss: 0.0024\n",
      "Epoch 64/100\n",
      "23/23 [==============================] - 6s 270ms/step - loss: 1.7835e-04 - val_loss: 4.0064e-04\n",
      "Epoch 65/100\n",
      "23/23 [==============================] - 6s 272ms/step - loss: 1.4156e-04 - val_loss: 6.3316e-04\n",
      "Epoch 66/100\n",
      "23/23 [==============================] - 6s 273ms/step - loss: 1.4530e-04 - val_loss: 9.5492e-04\n",
      "Epoch 67/100\n",
      "23/23 [==============================] - 6s 273ms/step - loss: 1.4317e-04 - val_loss: 0.0018\n",
      "Epoch 68/100\n",
      "23/23 [==============================] - 6s 271ms/step - loss: 1.4480e-04 - val_loss: 5.0928e-04\n",
      "Epoch 69/100\n",
      "23/23 [==============================] - 6s 273ms/step - loss: 1.3282e-04 - val_loss: 6.1618e-04\n",
      "Epoch 70/100\n",
      "23/23 [==============================] - 6s 273ms/step - loss: 1.3530e-04 - val_loss: 9.3289e-04\n",
      "Epoch 71/100\n",
      "23/23 [==============================] - 6s 271ms/step - loss: 1.3151e-04 - val_loss: 0.0011\n",
      "Epoch 72/100\n",
      "23/23 [==============================] - 6s 272ms/step - loss: 1.2257e-04 - val_loss: 0.0011\n",
      "Epoch 73/100\n",
      "23/23 [==============================] - 6s 273ms/step - loss: 1.2463e-04 - val_loss: 7.3813e-04\n",
      "Epoch 74/100\n",
      "23/23 [==============================] - 6s 272ms/step - loss: 1.2336e-04 - val_loss: 5.5992e-04\n",
      "Epoch 75/100\n",
      "23/23 [==============================] - 6s 270ms/step - loss: 1.2035e-04 - val_loss: 7.5834e-04\n",
      "Epoch 76/100\n",
      "23/23 [==============================] - 6s 274ms/step - loss: 1.2052e-04 - val_loss: 9.2130e-04\n",
      "Epoch 77/100\n",
      "23/23 [==============================] - 6s 274ms/step - loss: 1.1888e-04 - val_loss: 6.4962e-04\n"
     ]
    },
    {
     "name": "stdout",
     "output_type": "stream",
     "text": [
      "Epoch 78/100\n",
      "23/23 [==============================] - 6s 270ms/step - loss: 1.3122e-04 - val_loss: 8.8489e-04\n",
      "Epoch 79/100\n",
      "23/23 [==============================] - 6s 274ms/step - loss: 1.1851e-04 - val_loss: 6.3873e-04\n",
      "Epoch 80/100\n",
      "23/23 [==============================] - 7s 286ms/step - loss: 1.3144e-04 - val_loss: 0.0011\n",
      "Epoch 81/100\n",
      "23/23 [==============================] - 6s 276ms/step - loss: 1.1687e-04 - val_loss: 9.6716e-04\n",
      "Epoch 82/100\n",
      "23/23 [==============================] - 6s 261ms/step - loss: 1.1859e-04 - val_loss: 4.5319e-04\n",
      "Epoch 83/100\n",
      "23/23 [==============================] - 6s 257ms/step - loss: 1.3692e-04 - val_loss: 0.0011\n",
      "Epoch 84/100\n",
      "23/23 [==============================] - 6s 258ms/step - loss: 1.1532e-04 - val_loss: 0.0014\n",
      "Epoch 85/100\n",
      "23/23 [==============================] - 6s 257ms/step - loss: 1.1032e-04 - val_loss: 9.1283e-04\n",
      "Epoch 86/100\n",
      "23/23 [==============================] - 6s 262ms/step - loss: 1.2342e-04 - val_loss: 8.5498e-04\n",
      "Epoch 87/100\n",
      "23/23 [==============================] - 6s 273ms/step - loss: 1.1727e-04 - val_loss: 5.1151e-04\n",
      "Epoch 88/100\n",
      "23/23 [==============================] - 6s 263ms/step - loss: 1.1422e-04 - val_loss: 0.0014\n",
      "Epoch 89/100\n",
      "23/23 [==============================] - 6s 265ms/step - loss: 1.2382e-04 - val_loss: 7.8939e-04\n",
      "Epoch 90/100\n",
      "23/23 [==============================] - 6s 263ms/step - loss: 1.1128e-04 - val_loss: 9.4064e-04\n",
      "Epoch 91/100\n",
      "23/23 [==============================] - 6s 261ms/step - loss: 1.1405e-04 - val_loss: 5.6554e-04\n",
      "Epoch 92/100\n",
      "23/23 [==============================] - 6s 262ms/step - loss: 1.2334e-04 - val_loss: 4.3836e-04\n",
      "Epoch 93/100\n",
      "23/23 [==============================] - 6s 260ms/step - loss: 1.1751e-04 - val_loss: 5.9220e-04\n",
      "Epoch 94/100\n",
      "23/23 [==============================] - 6s 260ms/step - loss: 1.2787e-04 - val_loss: 0.0010\n",
      "Epoch 95/100\n",
      "23/23 [==============================] - 6s 260ms/step - loss: 1.2700e-04 - val_loss: 0.0011\n",
      "Epoch 96/100\n",
      "23/23 [==============================] - 6s 271ms/step - loss: 1.1018e-04 - val_loss: 0.0014\n",
      "Epoch 97/100\n",
      "23/23 [==============================] - 6s 269ms/step - loss: 1.1141e-04 - val_loss: 0.0017\n",
      "Epoch 98/100\n",
      "23/23 [==============================] - 6s 268ms/step - loss: 1.1384e-04 - val_loss: 0.0011\n",
      "Epoch 99/100\n",
      "23/23 [==============================] - 6s 265ms/step - loss: 1.1695e-04 - val_loss: 0.0027\n",
      "Epoch 100/100\n",
      "23/23 [==============================] - 6s 264ms/step - loss: 1.1941e-04 - val_loss: 0.0013\n"
     ]
    },
    {
     "data": {
      "text/plain": [
       "<tensorflow.python.keras.callbacks.History at 0x1cbd3482070>"
      ]
     },
     "execution_count": 66,
     "metadata": {},
     "output_type": "execute_result"
    }
   ],
   "source": [
    "model.fit(x_train, y_train, validation_data = (x_test, y_test), epochs = 100, batch_size = 64, verbose = 1)"
   ]
  },
  {
   "cell_type": "code",
   "execution_count": 67,
   "metadata": {
    "execution": {
     "iopub.execute_input": "2022-04-11T05:51:02.028148Z",
     "iopub.status.busy": "2022-04-11T05:51:02.027881Z",
     "iopub.status.idle": "2022-04-11T05:51:07.560951Z",
     "shell.execute_reply": "2022-04-11T05:51:07.560081Z",
     "shell.execute_reply.started": "2022-04-11T05:51:02.028119Z"
    }
   },
   "outputs": [],
   "source": [
    "#predictions\n",
    "#Lets predict and check performance metrics\n",
    "train_predict = model.predict(x_train)\n",
    "test_predict = model.predict(x_test)"
   ]
  },
  {
   "cell_type": "code",
   "execution_count": 68,
   "metadata": {
    "execution": {
     "iopub.execute_input": "2022-04-11T05:51:09.047967Z",
     "iopub.status.busy": "2022-04-11T05:51:09.047267Z",
     "iopub.status.idle": "2022-04-11T05:51:09.052249Z",
     "shell.execute_reply": "2022-04-11T05:51:09.051325Z",
     "shell.execute_reply.started": "2022-04-11T05:51:09.047930Z"
    }
   },
   "outputs": [],
   "source": [
    "#Transform back to original form\n",
    "train_predict = scaler.inverse_transform(train_predict)\n",
    "test_predict = scaler.inverse_transform(test_predict)"
   ]
  },
  {
   "cell_type": "code",
   "execution_count": 69,
   "metadata": {
    "execution": {
     "iopub.execute_input": "2022-04-11T05:51:11.312294Z",
     "iopub.status.busy": "2022-04-11T05:51:11.311841Z",
     "iopub.status.idle": "2022-04-11T05:51:11.348986Z",
     "shell.execute_reply": "2022-04-11T05:51:11.348283Z",
     "shell.execute_reply.started": "2022-04-11T05:51:11.312256Z"
    }
   },
   "outputs": [
    {
     "data": {
      "text/plain": [
       "135.89753229447012"
      ]
     },
     "execution_count": 69,
     "metadata": {},
     "output_type": "execute_result"
    }
   ],
   "source": [
    "#Calculate RMSE performance metrics\n",
    "import math\n",
    "from sklearn.metrics import mean_squared_error\n",
    "math.sqrt(mean_squared_error(y_train, train_predict))"
   ]
  },
  {
   "cell_type": "code",
   "execution_count": 70,
   "metadata": {
    "execution": {
     "iopub.execute_input": "2022-04-11T05:51:13.040140Z",
     "iopub.status.busy": "2022-04-11T05:51:13.039309Z",
     "iopub.status.idle": "2022-04-11T05:51:13.051215Z",
     "shell.execute_reply": "2022-04-11T05:51:13.050377Z",
     "shell.execute_reply.started": "2022-04-11T05:51:13.040095Z"
    }
   },
   "outputs": [
    {
     "data": {
      "text/plain": [
       "226.178161930949"
      ]
     },
     "execution_count": 70,
     "metadata": {},
     "output_type": "execute_result"
    }
   ],
   "source": [
    "#Test Data RMSE\n",
    "math.sqrt(mean_squared_error(y_test, test_predict))"
   ]
  },
  {
   "cell_type": "code",
   "execution_count": 71,
   "metadata": {
    "execution": {
     "iopub.execute_input": "2022-04-11T05:51:14.551609Z",
     "iopub.status.busy": "2022-04-11T05:51:14.550856Z",
     "iopub.status.idle": "2022-04-11T05:51:14.558415Z",
     "shell.execute_reply": "2022-04-11T05:51:14.556623Z",
     "shell.execute_reply.started": "2022-04-11T05:51:14.551568Z"
    }
   },
   "outputs": [],
   "source": [
    "#Plotting\n",
    "#Shift train prediction for plotting\n",
    "look_back = 100\n",
    "trainPredictPlot = np.empty_like(df_high)\n",
    "trainPredictPlot[:,:] = np.nan\n",
    "trainPredictPlot[look_back:len(train_predict) + look_back, :] = train_predict\n",
    "\n",
    "#Shift test prediction for plotting\n",
    "testPredictPlot = np.empty_like(df_high)\n",
    "testPredictPlot[:,:] = np.nan\n",
    "testPredictPlot[len(train_predict) + (look_back * 2)+1:len(df_high) - 1, :] = test_predict"
   ]
  },
  {
   "cell_type": "code",
   "execution_count": 72,
   "metadata": {
    "execution": {
     "iopub.execute_input": "2022-04-11T05:51:40.796239Z",
     "iopub.status.busy": "2022-04-11T05:51:40.795980Z",
     "iopub.status.idle": "2022-04-11T05:51:40.975763Z",
     "shell.execute_reply": "2022-04-11T05:51:40.975068Z",
     "shell.execute_reply.started": "2022-04-11T05:51:40.796210Z"
    }
   },
   "outputs": [
    {
     "data": {
      "image/png": "[encoded data removed]",
      "text/plain": [
       "<Figure size 432x288 with 1 Axes>"
      ]
     },
     "metadata": {
      "needs_background": "light"
     },
     "output_type": "display_data"
    },
    {
     "name": "stdout",
     "output_type": "stream",
     "text": [
      "Green indicates the Predicted Data\n",
      "Blue indicates the Complete Data\n",
      "Orange indicates the Train Data\n"
     ]
    }
   ],
   "source": [
    "#Plot baseline and predictions\n",
    "plt.plot(scaler.inverse_transform(df_high))\n",
    "plt.plot(trainPredictPlot)\n",
    "plt.plot(testPredictPlot)\n",
    "plt.show()\n",
    "\n",
    "print(\"Green indicates the Predicted Data\")\n",
    "print(\"Blue indicates the Complete Data\")\n",
    "print(\"Orange indicates the Train Data\")"
   ]
  },
  {
   "cell_type": "code",
   "execution_count": 73,
   "metadata": {
    "execution": {
     "iopub.execute_input": "2022-04-11T05:51:42.692887Z",
     "iopub.status.busy": "2022-04-11T05:51:42.692240Z",
     "iopub.status.idle": "2022-04-11T05:51:42.698677Z",
     "shell.execute_reply": "2022-04-11T05:51:42.697786Z",
     "shell.execute_reply.started": "2022-04-11T05:51:42.692843Z"
    }
   },
   "outputs": [
    {
     "data": {
      "text/plain": [
       "(509, (408, 100, 1))"
      ]
     },
     "execution_count": 73,
     "metadata": {},
     "output_type": "execute_result"
    }
   ],
   "source": [
    "#Predict the next 28 days Stock Price\n",
    "len(test_data), x_test.shape"
   ]
  },
  {
   "cell_type": "code",
   "execution_count": 74,
   "metadata": {
    "execution": {
     "iopub.execute_input": "2022-04-11T05:51:44.828615Z",
     "iopub.status.busy": "2022-04-11T05:51:44.827916Z",
     "iopub.status.idle": "2022-04-11T05:51:44.833995Z",
     "shell.execute_reply": "2022-04-11T05:51:44.833319Z",
     "shell.execute_reply.started": "2022-04-11T05:51:44.828576Z"
    }
   },
   "outputs": [
    {
     "data": {
      "text/plain": [
       "(1, 100)"
      ]
     },
     "execution_count": 74,
     "metadata": {},
     "output_type": "execute_result"
    }
   ],
   "source": [
    "x_input = test_data[409:].reshape(1,-1)\n",
    "x_input.shape"
   ]
  },
  {
   "cell_type": "code",
   "execution_count": 75,
   "metadata": {
    "execution": {
     "iopub.execute_input": "2022-04-11T05:51:46.035467Z",
     "iopub.status.busy": "2022-04-11T05:51:46.035158Z",
     "iopub.status.idle": "2022-04-11T05:51:50.006343Z",
     "shell.execute_reply": "2022-04-11T05:51:50.005473Z",
     "shell.execute_reply.started": "2022-04-11T05:51:46.035435Z"
    }
   },
   "outputs": [
    {
     "name": "stdout",
     "output_type": "stream",
     "text": [
      "[0.5983884]\n",
      "101\n",
      "1 day input [0.86013417 0.85464525 0.84448059 0.8072779  0.71843871 0.66192316\n",
      " 0.67696686 0.67554381 0.67310429 0.68428542 0.68936776 0.70217524\n",
      " 0.71803212 0.72941655 0.73144948 0.74486684 0.76926205 0.75991055\n",
      " 0.74242732 0.73958122 0.74771295 0.75991055 0.7584875  0.76621264\n",
      " 0.75462492 0.76316324 0.79670665 0.80585485 0.7889815  0.78003659\n",
      " 0.73978451 0.73002643 0.73490547 0.74872942 0.75991055 0.75462492\n",
      " 0.75401504 0.76174019 0.7737345  0.82008538 0.80585485 0.81154706\n",
      " 0.77434438 0.78633869 0.79284407 0.78328929 0.77109169 0.74385038\n",
      " 0.71193332 0.68733482 0.67818662 0.65257166 0.64301687 0.65643423\n",
      " 0.67656028 0.67371417 0.65114861 0.65521447 0.66761537 0.67838992\n",
      " 0.69993901 0.63122586 0.63508843 0.64098394 0.64545639 0.64118723\n",
      " 0.63854442 0.63081927 0.62472047 0.6330555  0.64728603 0.6574507\n",
      " 0.66761537 0.66720878 0.64159382 0.62776987 0.63651149 0.63630819\n",
      " 0.62980281 0.62817646 0.63813783 0.65358813 0.63183574 0.57653995\n",
      " 0.57816629 0.57613336 0.61943484 0.57979264 0.57288067 0.62573694\n",
      " 0.63102257 0.6361049  0.62776987 0.6269567  0.63590161 0.62594023\n",
      " 0.6391543  0.62614353 0.62268754 0.59838837]\n",
      "1 day output [[0.56540287]]\n",
      "2 day input [0.85464525 0.84448059 0.8072779  0.71843871 0.66192316 0.67696686\n",
      " 0.67554381 0.67310429 0.68428542 0.68936776 0.70217524 0.71803212\n",
      " 0.72941655 0.73144948 0.74486684 0.76926205 0.75991055 0.74242732\n",
      " 0.73958122 0.74771295 0.75991055 0.7584875  0.76621264 0.75462492\n",
      " 0.76316324 0.79670665 0.80585485 0.7889815  0.78003659 0.73978451\n",
      " 0.73002643 0.73490547 0.74872942 0.75991055 0.75462492 0.75401504\n",
      " 0.76174019 0.7737345  0.82008538 0.80585485 0.81154706 0.77434438\n",
      " 0.78633869 0.79284407 0.78328929 0.77109169 0.74385038 0.71193332\n",
      " 0.68733482 0.67818662 0.65257166 0.64301687 0.65643423 0.67656028\n",
      " 0.67371417 0.65114861 0.65521447 0.66761537 0.67838992 0.69993901\n",
      " 0.63122586 0.63508843 0.64098394 0.64545639 0.64118723 0.63854442\n",
      " 0.63081927 0.62472047 0.6330555  0.64728603 0.6574507  0.66761537\n",
      " 0.66720878 0.64159382 0.62776987 0.63651149 0.63630819 0.62980281\n",
      " 0.62817646 0.63813783 0.65358813 0.63183574 0.57653995 0.57816629\n",
      " 0.57613336 0.61943484 0.57979264 0.57288067 0.62573694 0.63102257\n",
      " 0.6361049  0.62776987 0.6269567  0.63590161 0.62594023 0.6391543\n",
      " 0.62614353 0.62268754 0.59838837 0.56540287]\n",
      "2 day output [[0.53370196]]\n",
      "3 day input [0.84448059 0.8072779  0.71843871 0.66192316 0.67696686 0.67554381\n",
      " 0.67310429 0.68428542 0.68936776 0.70217524 0.71803212 0.72941655\n",
      " 0.73144948 0.74486684 0.76926205 0.75991055 0.74242732 0.73958122\n",
      " 0.74771295 0.75991055 0.7584875  0.76621264 0.75462492 0.76316324\n",
      " 0.79670665 0.80585485 0.7889815  0.78003659 0.73978451 0.73002643\n",
      " 0.73490547 0.74872942 0.75991055 0.75462492 0.75401504 0.76174019\n",
      " 0.7737345  0.82008538 0.80585485 0.81154706 0.77434438 0.78633869\n",
      " 0.79284407 0.78328929 0.77109169 0.74385038 0.71193332 0.68733482\n",
      " 0.67818662 0.65257166 0.64301687 0.65643423 0.67656028 0.67371417\n",
      " 0.65114861 0.65521447 0.66761537 0.67838992 0.69993901 0.63122586\n",
      " 0.63508843 0.64098394 0.64545639 0.64118723 0.63854442 0.63081927\n",
      " 0.62472047 0.6330555  0.64728603 0.6574507  0.66761537 0.66720878\n",
      " 0.64159382 0.62776987 0.63651149 0.63630819 0.62980281 0.62817646\n",
      " 0.63813783 0.65358813 0.63183574 0.57653995 0.57816629 0.57613336\n",
      " 0.61943484 0.57979264 0.57288067 0.62573694 0.63102257 0.6361049\n",
      " 0.62776987 0.6269567  0.63590161 0.62594023 0.6391543  0.62614353\n",
      " 0.62268754 0.59838837 0.56540287 0.53370196]\n",
      "3 day output [[0.5076156]]\n",
      "4 day input [0.8072779  0.71843871 0.66192316 0.67696686 0.67554381 0.67310429\n",
      " 0.68428542 0.68936776 0.70217524 0.71803212 0.72941655 0.73144948\n",
      " 0.74486684 0.76926205 0.75991055 0.74242732 0.73958122 0.74771295\n",
      " 0.75991055 0.7584875  0.76621264 0.75462492 0.76316324 0.79670665\n",
      " 0.80585485 0.7889815  0.78003659 0.73978451 0.73002643 0.73490547\n",
      " 0.74872942 0.75991055 0.75462492 0.75401504 0.76174019 0.7737345\n",
      " 0.82008538 0.80585485 0.81154706 0.77434438 0.78633869 0.79284407\n",
      " 0.78328929 0.77109169 0.74385038 0.71193332 0.68733482 0.67818662\n",
      " 0.65257166 0.64301687 0.65643423 0.67656028 0.67371417 0.65114861\n",
      " 0.65521447 0.66761537 0.67838992 0.69993901 0.63122586 0.63508843\n",
      " 0.64098394 0.64545639 0.64118723 0.63854442 0.63081927 0.62472047\n",
      " 0.6330555  0.64728603 0.6574507  0.66761537 0.66720878 0.64159382\n",
      " 0.62776987 0.63651149 0.63630819 0.62980281 0.62817646 0.63813783\n",
      " 0.65358813 0.63183574 0.57653995 0.57816629 0.57613336 0.61943484\n",
      " 0.57979264 0.57288067 0.62573694 0.63102257 0.6361049  0.62776987\n",
      " 0.6269567  0.63590161 0.62594023 0.6391543  0.62614353 0.62268754\n",
      " 0.59838837 0.56540287 0.53370196 0.50761563]\n",
      "4 day output [[0.48605517]]\n",
      "5 day input [0.71843871 0.66192316 0.67696686 0.67554381 0.67310429 0.68428542\n",
      " 0.68936776 0.70217524 0.71803212 0.72941655 0.73144948 0.74486684\n",
      " 0.76926205 0.75991055 0.74242732 0.73958122 0.74771295 0.75991055\n",
      " 0.7584875  0.76621264 0.75462492 0.76316324 0.79670665 0.80585485\n",
      " 0.7889815  0.78003659 0.73978451 0.73002643 0.73490547 0.74872942\n",
      " 0.75991055 0.75462492 0.75401504 0.76174019 0.7737345  0.82008538\n",
      " 0.80585485 0.81154706 0.77434438 0.78633869 0.79284407 0.78328929\n",
      " 0.77109169 0.74385038 0.71193332 0.68733482 0.67818662 0.65257166\n",
      " 0.64301687 0.65643423 0.67656028 0.67371417 0.65114861 0.65521447\n",
      " 0.66761537 0.67838992 0.69993901 0.63122586 0.63508843 0.64098394\n",
      " 0.64545639 0.64118723 0.63854442 0.63081927 0.62472047 0.6330555\n",
      " 0.64728603 0.6574507  0.66761537 0.66720878 0.64159382 0.62776987\n",
      " 0.63651149 0.63630819 0.62980281 0.62817646 0.63813783 0.65358813\n",
      " 0.63183574 0.57653995 0.57816629 0.57613336 0.61943484 0.57979264\n",
      " 0.57288067 0.62573694 0.63102257 0.6361049  0.62776987 0.6269567\n",
      " 0.63590161 0.62594023 0.6391543  0.62614353 0.62268754 0.59838837\n",
      " 0.56540287 0.53370196 0.50761563 0.48605517]\n",
      "5 day output [[0.4687334]]\n",
      "6 day input [0.66192316 0.67696686 0.67554381 0.67310429 0.68428542 0.68936776\n",
      " 0.70217524 0.71803212 0.72941655 0.73144948 0.74486684 0.76926205\n",
      " 0.75991055 0.74242732 0.73958122 0.74771295 0.75991055 0.7584875\n",
      " 0.76621264 0.75462492 0.76316324 0.79670665 0.80585485 0.7889815\n",
      " 0.78003659 0.73978451 0.73002643 0.73490547 0.74872942 0.75991055\n",
      " 0.75462492 0.75401504 0.76174019 0.7737345  0.82008538 0.80585485\n",
      " 0.81154706 0.77434438 0.78633869 0.79284407 0.78328929 0.77109169\n",
      " 0.74385038 0.71193332 0.68733482 0.67818662 0.65257166 0.64301687\n",
      " 0.65643423 0.67656028 0.67371417 0.65114861 0.65521447 0.66761537\n",
      " 0.67838992 0.69993901 0.63122586 0.63508843 0.64098394 0.64545639\n",
      " 0.64118723 0.63854442 0.63081927 0.62472047 0.6330555  0.64728603\n",
      " 0.6574507  0.66761537 0.66720878 0.64159382 0.62776987 0.63651149\n",
      " 0.63630819 0.62980281 0.62817646 0.63813783 0.65358813 0.63183574\n",
      " 0.57653995 0.57816629 0.57613336 0.61943484 0.57979264 0.57288067\n",
      " 0.62573694 0.63102257 0.6361049  0.62776987 0.6269567  0.63590161\n",
      " 0.62594023 0.6391543  0.62614353 0.62268754 0.59838837 0.56540287\n",
      " 0.53370196 0.50761563 0.48605517 0.4687334 ]\n",
      "6 day output [[0.454384]]\n",
      "7 day input [0.67696686 0.67554381 0.67310429 0.68428542 0.68936776 0.70217524\n",
      " 0.71803212 0.72941655 0.73144948 0.74486684 0.76926205 0.75991055\n",
      " 0.74242732 0.73958122 0.74771295 0.75991055 0.7584875  0.76621264\n",
      " 0.75462492 0.76316324 0.79670665 0.80585485 0.7889815  0.78003659\n",
      " 0.73978451 0.73002643 0.73490547 0.74872942 0.75991055 0.75462492\n",
      " 0.75401504 0.76174019 0.7737345  0.82008538 0.80585485 0.81154706\n",
      " 0.77434438 0.78633869 0.79284407 0.78328929 0.77109169 0.74385038\n",
      " 0.71193332 0.68733482 0.67818662 0.65257166 0.64301687 0.65643423\n",
      " 0.67656028 0.67371417 0.65114861 0.65521447 0.66761537 0.67838992\n",
      " 0.69993901 0.63122586 0.63508843 0.64098394 0.64545639 0.64118723\n",
      " 0.63854442 0.63081927 0.62472047 0.6330555  0.64728603 0.6574507\n",
      " 0.66761537 0.66720878 0.64159382 0.62776987 0.63651149 0.63630819\n",
      " 0.62980281 0.62817646 0.63813783 0.65358813 0.63183574 0.57653995\n",
      " 0.57816629 0.57613336 0.61943484 0.57979264 0.57288067 0.62573694\n",
      " 0.63102257 0.6361049  0.62776987 0.6269567  0.63590161 0.62594023\n",
      " 0.6391543  0.62614353 0.62268754 0.59838837 0.56540287 0.53370196\n",
      " 0.50761563 0.48605517 0.4687334  0.454384  ]\n",
      "7 day output [[0.44238734]]\n",
      "8 day input [0.67554381 0.67310429 0.68428542 0.68936776 0.70217524 0.71803212\n",
      " 0.72941655 0.73144948 0.74486684 0.76926205 0.75991055 0.74242732\n",
      " 0.73958122 0.74771295 0.75991055 0.7584875  0.76621264 0.75462492\n",
      " 0.76316324 0.79670665 0.80585485 0.7889815  0.78003659 0.73978451\n",
      " 0.73002643 0.73490547 0.74872942 0.75991055 0.75462492 0.75401504\n",
      " 0.76174019 0.7737345  0.82008538 0.80585485 0.81154706 0.77434438\n",
      " 0.78633869 0.79284407 0.78328929 0.77109169 0.74385038 0.71193332\n",
      " 0.68733482 0.67818662 0.65257166 0.64301687 0.65643423 0.67656028\n",
      " 0.67371417 0.65114861 0.65521447 0.66761537 0.67838992 0.69993901\n",
      " 0.63122586 0.63508843 0.64098394 0.64545639 0.64118723 0.63854442\n",
      " 0.63081927 0.62472047 0.6330555  0.64728603 0.6574507  0.66761537\n",
      " 0.66720878 0.64159382 0.62776987 0.63651149 0.63630819 0.62980281\n",
      " 0.62817646 0.63813783 0.65358813 0.63183574 0.57653995 0.57816629\n",
      " 0.57613336 0.61943484 0.57979264 0.57288067 0.62573694 0.63102257\n",
      " 0.6361049  0.62776987 0.6269567  0.63590161 0.62594023 0.6391543\n",
      " 0.62614353 0.62268754 0.59838837 0.56540287 0.53370196 0.50761563\n",
      " 0.48605517 0.4687334  0.454384   0.44238734]\n",
      "8 day output [[0.43203685]]\n",
      "9 day input [0.67310429 0.68428542 0.68936776 0.70217524 0.71803212 0.72941655\n",
      " 0.73144948 0.74486684 0.76926205 0.75991055 0.74242732 0.73958122\n",
      " 0.74771295 0.75991055 0.7584875  0.76621264 0.75462492 0.76316324\n",
      " 0.79670665 0.80585485 0.7889815  0.78003659 0.73978451 0.73002643\n",
      " 0.73490547 0.74872942 0.75991055 0.75462492 0.75401504 0.76174019\n",
      " 0.7737345  0.82008538 0.80585485 0.81154706 0.77434438 0.78633869\n",
      " 0.79284407 0.78328929 0.77109169 0.74385038 0.71193332 0.68733482\n",
      " 0.67818662 0.65257166 0.64301687 0.65643423 0.67656028 0.67371417\n",
      " 0.65114861 0.65521447 0.66761537 0.67838992 0.69993901 0.63122586\n",
      " 0.63508843 0.64098394 0.64545639 0.64118723 0.63854442 0.63081927\n",
      " 0.62472047 0.6330555  0.64728603 0.6574507  0.66761537 0.66720878\n",
      " 0.64159382 0.62776987 0.63651149 0.63630819 0.62980281 0.62817646\n",
      " 0.63813783 0.65358813 0.63183574 0.57653995 0.57816629 0.57613336\n",
      " 0.61943484 0.57979264 0.57288067 0.62573694 0.63102257 0.6361049\n",
      " 0.62776987 0.6269567  0.63590161 0.62594023 0.6391543  0.62614353\n",
      " 0.62268754 0.59838837 0.56540287 0.53370196 0.50761563 0.48605517\n",
      " 0.4687334  0.454384   0.44238734 0.43203685]\n"
     ]
    },
    {
     "name": "stdout",
     "output_type": "stream",
     "text": [
      "9 day output [[0.42278525]]\n",
      "10 day input [0.68428542 0.68936776 0.70217524 0.71803212 0.72941655 0.73144948\n",
      " 0.74486684 0.76926205 0.75991055 0.74242732 0.73958122 0.74771295\n",
      " 0.75991055 0.7584875  0.76621264 0.75462492 0.76316324 0.79670665\n",
      " 0.80585485 0.7889815  0.78003659 0.73978451 0.73002643 0.73490547\n",
      " 0.74872942 0.75991055 0.75462492 0.75401504 0.76174019 0.7737345\n",
      " 0.82008538 0.80585485 0.81154706 0.77434438 0.78633869 0.79284407\n",
      " 0.78328929 0.77109169 0.74385038 0.71193332 0.68733482 0.67818662\n",
      " 0.65257166 0.64301687 0.65643423 0.67656028 0.67371417 0.65114861\n",
      " 0.65521447 0.66761537 0.67838992 0.69993901 0.63122586 0.63508843\n",
      " 0.64098394 0.64545639 0.64118723 0.63854442 0.63081927 0.62472047\n",
      " 0.6330555  0.64728603 0.6574507  0.66761537 0.66720878 0.64159382\n",
      " 0.62776987 0.63651149 0.63630819 0.62980281 0.62817646 0.63813783\n",
      " 0.65358813 0.63183574 0.57653995 0.57816629 0.57613336 0.61943484\n",
      " 0.57979264 0.57288067 0.62573694 0.63102257 0.6361049  0.62776987\n",
      " 0.6269567  0.63590161 0.62594023 0.6391543  0.62614353 0.62268754\n",
      " 0.59838837 0.56540287 0.53370196 0.50761563 0.48605517 0.4687334\n",
      " 0.454384   0.44238734 0.43203685 0.42278525]\n",
      "10 day output [[0.41478142]]\n",
      "11 day input [0.68936776 0.70217524 0.71803212 0.72941655 0.73144948 0.74486684\n",
      " 0.76926205 0.75991055 0.74242732 0.73958122 0.74771295 0.75991055\n",
      " 0.7584875  0.76621264 0.75462492 0.76316324 0.79670665 0.80585485\n",
      " 0.7889815  0.78003659 0.73978451 0.73002643 0.73490547 0.74872942\n",
      " 0.75991055 0.75462492 0.75401504 0.76174019 0.7737345  0.82008538\n",
      " 0.80585485 0.81154706 0.77434438 0.78633869 0.79284407 0.78328929\n",
      " 0.77109169 0.74385038 0.71193332 0.68733482 0.67818662 0.65257166\n",
      " 0.64301687 0.65643423 0.67656028 0.67371417 0.65114861 0.65521447\n",
      " 0.66761537 0.67838992 0.69993901 0.63122586 0.63508843 0.64098394\n",
      " 0.64545639 0.64118723 0.63854442 0.63081927 0.62472047 0.6330555\n",
      " 0.64728603 0.6574507  0.66761537 0.66720878 0.64159382 0.62776987\n",
      " 0.63651149 0.63630819 0.62980281 0.62817646 0.63813783 0.65358813\n",
      " 0.63183574 0.57653995 0.57816629 0.57613336 0.61943484 0.57979264\n",
      " 0.57288067 0.62573694 0.63102257 0.6361049  0.62776987 0.6269567\n",
      " 0.63590161 0.62594023 0.6391543  0.62614353 0.62268754 0.59838837\n",
      " 0.56540287 0.53370196 0.50761563 0.48605517 0.4687334  0.454384\n",
      " 0.44238734 0.43203685 0.42278525 0.41478142]\n",
      "11 day output [[0.40771815]]\n",
      "12 day input [0.70217524 0.71803212 0.72941655 0.73144948 0.74486684 0.76926205\n",
      " 0.75991055 0.74242732 0.73958122 0.74771295 0.75991055 0.7584875\n",
      " 0.76621264 0.75462492 0.76316324 0.79670665 0.80585485 0.7889815\n",
      " 0.78003659 0.73978451 0.73002643 0.73490547 0.74872942 0.75991055\n",
      " 0.75462492 0.75401504 0.76174019 0.7737345  0.82008538 0.80585485\n",
      " 0.81154706 0.77434438 0.78633869 0.79284407 0.78328929 0.77109169\n",
      " 0.74385038 0.71193332 0.68733482 0.67818662 0.65257166 0.64301687\n",
      " 0.65643423 0.67656028 0.67371417 0.65114861 0.65521447 0.66761537\n",
      " 0.67838992 0.69993901 0.63122586 0.63508843 0.64098394 0.64545639\n",
      " 0.64118723 0.63854442 0.63081927 0.62472047 0.6330555  0.64728603\n",
      " 0.6574507  0.66761537 0.66720878 0.64159382 0.62776987 0.63651149\n",
      " 0.63630819 0.62980281 0.62817646 0.63813783 0.65358813 0.63183574\n",
      " 0.57653995 0.57816629 0.57613336 0.61943484 0.57979264 0.57288067\n",
      " 0.62573694 0.63102257 0.6361049  0.62776987 0.6269567  0.63590161\n",
      " 0.62594023 0.6391543  0.62614353 0.62268754 0.59838837 0.56540287\n",
      " 0.53370196 0.50761563 0.48605517 0.4687334  0.454384   0.44238734\n",
      " 0.43203685 0.42278525 0.41478142 0.40771815]\n",
      "12 day output [[0.40139115]]\n",
      "13 day input [0.71803212 0.72941655 0.73144948 0.74486684 0.76926205 0.75991055\n",
      " 0.74242732 0.73958122 0.74771295 0.75991055 0.7584875  0.76621264\n",
      " 0.75462492 0.76316324 0.79670665 0.80585485 0.7889815  0.78003659\n",
      " 0.73978451 0.73002643 0.73490547 0.74872942 0.75991055 0.75462492\n",
      " 0.75401504 0.76174019 0.7737345  0.82008538 0.80585485 0.81154706\n",
      " 0.77434438 0.78633869 0.79284407 0.78328929 0.77109169 0.74385038\n",
      " 0.71193332 0.68733482 0.67818662 0.65257166 0.64301687 0.65643423\n",
      " 0.67656028 0.67371417 0.65114861 0.65521447 0.66761537 0.67838992\n",
      " 0.69993901 0.63122586 0.63508843 0.64098394 0.64545639 0.64118723\n",
      " 0.63854442 0.63081927 0.62472047 0.6330555  0.64728603 0.6574507\n",
      " 0.66761537 0.66720878 0.64159382 0.62776987 0.63651149 0.63630819\n",
      " 0.62980281 0.62817646 0.63813783 0.65358813 0.63183574 0.57653995\n",
      " 0.57816629 0.57613336 0.61943484 0.57979264 0.57288067 0.62573694\n",
      " 0.63102257 0.6361049  0.62776987 0.6269567  0.63590161 0.62594023\n",
      " 0.6391543  0.62614353 0.62268754 0.59838837 0.56540287 0.53370196\n",
      " 0.50761563 0.48605517 0.4687334  0.454384   0.44238734 0.43203685\n",
      " 0.42278525 0.41478142 0.40771815 0.40139115]\n",
      "13 day output [[0.39564735]]\n",
      "14 day input [0.72941655 0.73144948 0.74486684 0.76926205 0.75991055 0.74242732\n",
      " 0.73958122 0.74771295 0.75991055 0.7584875  0.76621264 0.75462492\n",
      " 0.76316324 0.79670665 0.80585485 0.7889815  0.78003659 0.73978451\n",
      " 0.73002643 0.73490547 0.74872942 0.75991055 0.75462492 0.75401504\n",
      " 0.76174019 0.7737345  0.82008538 0.80585485 0.81154706 0.77434438\n",
      " 0.78633869 0.79284407 0.78328929 0.77109169 0.74385038 0.71193332\n",
      " 0.68733482 0.67818662 0.65257166 0.64301687 0.65643423 0.67656028\n",
      " 0.67371417 0.65114861 0.65521447 0.66761537 0.67838992 0.69993901\n",
      " 0.63122586 0.63508843 0.64098394 0.64545639 0.64118723 0.63854442\n",
      " 0.63081927 0.62472047 0.6330555  0.64728603 0.6574507  0.66761537\n",
      " 0.66720878 0.64159382 0.62776987 0.63651149 0.63630819 0.62980281\n",
      " 0.62817646 0.63813783 0.65358813 0.63183574 0.57653995 0.57816629\n",
      " 0.57613336 0.61943484 0.57979264 0.57288067 0.62573694 0.63102257\n",
      " 0.6361049  0.62776987 0.6269567  0.63590161 0.62594023 0.6391543\n",
      " 0.62614353 0.62268754 0.59838837 0.56540287 0.53370196 0.50761563\n",
      " 0.48605517 0.4687334  0.454384   0.44238734 0.43203685 0.42278525\n",
      " 0.41478142 0.40771815 0.40139115 0.39564735]\n",
      "14 day output [[0.39037335]]\n",
      "15 day input [0.73144948 0.74486684 0.76926205 0.75991055 0.74242732 0.73958122\n",
      " 0.74771295 0.75991055 0.7584875  0.76621264 0.75462492 0.76316324\n",
      " 0.79670665 0.80585485 0.7889815  0.78003659 0.73978451 0.73002643\n",
      " 0.73490547 0.74872942 0.75991055 0.75462492 0.75401504 0.76174019\n",
      " 0.7737345  0.82008538 0.80585485 0.81154706 0.77434438 0.78633869\n",
      " 0.79284407 0.78328929 0.77109169 0.74385038 0.71193332 0.68733482\n",
      " 0.67818662 0.65257166 0.64301687 0.65643423 0.67656028 0.67371417\n",
      " 0.65114861 0.65521447 0.66761537 0.67838992 0.69993901 0.63122586\n",
      " 0.63508843 0.64098394 0.64545639 0.64118723 0.63854442 0.63081927\n",
      " 0.62472047 0.6330555  0.64728603 0.6574507  0.66761537 0.66720878\n",
      " 0.64159382 0.62776987 0.63651149 0.63630819 0.62980281 0.62817646\n",
      " 0.63813783 0.65358813 0.63183574 0.57653995 0.57816629 0.57613336\n",
      " 0.61943484 0.57979264 0.57288067 0.62573694 0.63102257 0.6361049\n",
      " 0.62776987 0.6269567  0.63590161 0.62594023 0.6391543  0.62614353\n",
      " 0.62268754 0.59838837 0.56540287 0.53370196 0.50761563 0.48605517\n",
      " 0.4687334  0.454384   0.44238734 0.43203685 0.42278525 0.41478142\n",
      " 0.40771815 0.40139115 0.39564735 0.39037335]\n",
      "15 day output [[0.38549018]]\n",
      "16 day input [0.74486684 0.76926205 0.75991055 0.74242732 0.73958122 0.74771295\n",
      " 0.75991055 0.7584875  0.76621264 0.75462492 0.76316324 0.79670665\n",
      " 0.80585485 0.7889815  0.78003659 0.73978451 0.73002643 0.73490547\n",
      " 0.74872942 0.75991055 0.75462492 0.75401504 0.76174019 0.7737345\n",
      " 0.82008538 0.80585485 0.81154706 0.77434438 0.78633869 0.79284407\n",
      " 0.78328929 0.77109169 0.74385038 0.71193332 0.68733482 0.67818662\n",
      " 0.65257166 0.64301687 0.65643423 0.67656028 0.67371417 0.65114861\n",
      " 0.65521447 0.66761537 0.67838992 0.69993901 0.63122586 0.63508843\n",
      " 0.64098394 0.64545639 0.64118723 0.63854442 0.63081927 0.62472047\n",
      " 0.6330555  0.64728603 0.6574507  0.66761537 0.66720878 0.64159382\n",
      " 0.62776987 0.63651149 0.63630819 0.62980281 0.62817646 0.63813783\n",
      " 0.65358813 0.63183574 0.57653995 0.57816629 0.57613336 0.61943484\n",
      " 0.57979264 0.57288067 0.62573694 0.63102257 0.6361049  0.62776987\n",
      " 0.6269567  0.63590161 0.62594023 0.6391543  0.62614353 0.62268754\n",
      " 0.59838837 0.56540287 0.53370196 0.50761563 0.48605517 0.4687334\n",
      " 0.454384   0.44238734 0.43203685 0.42278525 0.41478142 0.40771815\n",
      " 0.40139115 0.39564735 0.39037335 0.38549018]\n",
      "16 day output [[0.38094595]]\n",
      "17 day input [0.76926205 0.75991055 0.74242732 0.73958122 0.74771295 0.75991055\n",
      " 0.7584875  0.76621264 0.75462492 0.76316324 0.79670665 0.80585485\n",
      " 0.7889815  0.78003659 0.73978451 0.73002643 0.73490547 0.74872942\n",
      " 0.75991055 0.75462492 0.75401504 0.76174019 0.7737345  0.82008538\n",
      " 0.80585485 0.81154706 0.77434438 0.78633869 0.79284407 0.78328929\n",
      " 0.77109169 0.74385038 0.71193332 0.68733482 0.67818662 0.65257166\n",
      " 0.64301687 0.65643423 0.67656028 0.67371417 0.65114861 0.65521447\n",
      " 0.66761537 0.67838992 0.69993901 0.63122586 0.63508843 0.64098394\n",
      " 0.64545639 0.64118723 0.63854442 0.63081927 0.62472047 0.6330555\n",
      " 0.64728603 0.6574507  0.66761537 0.66720878 0.64159382 0.62776987\n",
      " 0.63651149 0.63630819 0.62980281 0.62817646 0.63813783 0.65358813\n",
      " 0.63183574 0.57653995 0.57816629 0.57613336 0.61943484 0.57979264\n",
      " 0.57288067 0.62573694 0.63102257 0.6361049  0.62776987 0.6269567\n",
      " 0.63590161 0.62594023 0.6391543  0.62614353 0.62268754 0.59838837\n",
      " 0.56540287 0.53370196 0.50761563 0.48605517 0.4687334  0.454384\n",
      " 0.44238734 0.43203685 0.42278525 0.41478142 0.40771815 0.40139115\n",
      " 0.39564735 0.39037335 0.38549018 0.38094595]\n",
      "17 day output [[0.3767079]]\n",
      "18 day input [0.75991055 0.74242732 0.73958122 0.74771295 0.75991055 0.7584875\n",
      " 0.76621264 0.75462492 0.76316324 0.79670665 0.80585485 0.7889815\n",
      " 0.78003659 0.73978451 0.73002643 0.73490547 0.74872942 0.75991055\n",
      " 0.75462492 0.75401504 0.76174019 0.7737345  0.82008538 0.80585485\n",
      " 0.81154706 0.77434438 0.78633869 0.79284407 0.78328929 0.77109169\n",
      " 0.74385038 0.71193332 0.68733482 0.67818662 0.65257166 0.64301687\n",
      " 0.65643423 0.67656028 0.67371417 0.65114861 0.65521447 0.66761537\n",
      " 0.67838992 0.69993901 0.63122586 0.63508843 0.64098394 0.64545639\n",
      " 0.64118723 0.63854442 0.63081927 0.62472047 0.6330555  0.64728603\n",
      " 0.6574507  0.66761537 0.66720878 0.64159382 0.62776987 0.63651149\n",
      " 0.63630819 0.62980281 0.62817646 0.63813783 0.65358813 0.63183574\n",
      " 0.57653995 0.57816629 0.57613336 0.61943484 0.57979264 0.57288067\n",
      " 0.62573694 0.63102257 0.6361049  0.62776987 0.6269567  0.63590161\n",
      " 0.62594023 0.6391543  0.62614353 0.62268754 0.59838837 0.56540287\n",
      " 0.53370196 0.50761563 0.48605517 0.4687334  0.454384   0.44238734\n",
      " 0.43203685 0.42278525 0.41478142 0.40771815 0.40139115 0.39564735\n",
      " 0.39037335 0.38549018 0.38094595 0.37670791]\n"
     ]
    },
    {
     "name": "stdout",
     "output_type": "stream",
     "text": [
      "18 day output [[0.3727555]]\n",
      "19 day input [0.74242732 0.73958122 0.74771295 0.75991055 0.7584875  0.76621264\n",
      " 0.75462492 0.76316324 0.79670665 0.80585485 0.7889815  0.78003659\n",
      " 0.73978451 0.73002643 0.73490547 0.74872942 0.75991055 0.75462492\n",
      " 0.75401504 0.76174019 0.7737345  0.82008538 0.80585485 0.81154706\n",
      " 0.77434438 0.78633869 0.79284407 0.78328929 0.77109169 0.74385038\n",
      " 0.71193332 0.68733482 0.67818662 0.65257166 0.64301687 0.65643423\n",
      " 0.67656028 0.67371417 0.65114861 0.65521447 0.66761537 0.67838992\n",
      " 0.69993901 0.63122586 0.63508843 0.64098394 0.64545639 0.64118723\n",
      " 0.63854442 0.63081927 0.62472047 0.6330555  0.64728603 0.6574507\n",
      " 0.66761537 0.66720878 0.64159382 0.62776987 0.63651149 0.63630819\n",
      " 0.62980281 0.62817646 0.63813783 0.65358813 0.63183574 0.57653995\n",
      " 0.57816629 0.57613336 0.61943484 0.57979264 0.57288067 0.62573694\n",
      " 0.63102257 0.6361049  0.62776987 0.6269567  0.63590161 0.62594023\n",
      " 0.6391543  0.62614353 0.62268754 0.59838837 0.56540287 0.53370196\n",
      " 0.50761563 0.48605517 0.4687334  0.454384   0.44238734 0.43203685\n",
      " 0.42278525 0.41478142 0.40771815 0.40139115 0.39564735 0.39037335\n",
      " 0.38549018 0.38094595 0.37670791 0.3727555 ]\n",
      "19 day output [[0.36907533]]\n",
      "20 day input [0.73958122 0.74771295 0.75991055 0.7584875  0.76621264 0.75462492\n",
      " 0.76316324 0.79670665 0.80585485 0.7889815  0.78003659 0.73978451\n",
      " 0.73002643 0.73490547 0.74872942 0.75991055 0.75462492 0.75401504\n",
      " 0.76174019 0.7737345  0.82008538 0.80585485 0.81154706 0.77434438\n",
      " 0.78633869 0.79284407 0.78328929 0.77109169 0.74385038 0.71193332\n",
      " 0.68733482 0.67818662 0.65257166 0.64301687 0.65643423 0.67656028\n",
      " 0.67371417 0.65114861 0.65521447 0.66761537 0.67838992 0.69993901\n",
      " 0.63122586 0.63508843 0.64098394 0.64545639 0.64118723 0.63854442\n",
      " 0.63081927 0.62472047 0.6330555  0.64728603 0.6574507  0.66761537\n",
      " 0.66720878 0.64159382 0.62776987 0.63651149 0.63630819 0.62980281\n",
      " 0.62817646 0.63813783 0.65358813 0.63183574 0.57653995 0.57816629\n",
      " 0.57613336 0.61943484 0.57979264 0.57288067 0.62573694 0.63102257\n",
      " 0.6361049  0.62776987 0.6269567  0.63590161 0.62594023 0.6391543\n",
      " 0.62614353 0.62268754 0.59838837 0.56540287 0.53370196 0.50761563\n",
      " 0.48605517 0.4687334  0.454384   0.44238734 0.43203685 0.42278525\n",
      " 0.41478142 0.40771815 0.40139115 0.39564735 0.39037335 0.38549018\n",
      " 0.38094595 0.37670791 0.3727555  0.36907533]\n",
      "20 day output [[0.36565694]]\n",
      "21 day input [0.74771295 0.75991055 0.7584875  0.76621264 0.75462492 0.76316324\n",
      " 0.79670665 0.80585485 0.7889815  0.78003659 0.73978451 0.73002643\n",
      " 0.73490547 0.74872942 0.75991055 0.75462492 0.75401504 0.76174019\n",
      " 0.7737345  0.82008538 0.80585485 0.81154706 0.77434438 0.78633869\n",
      " 0.79284407 0.78328929 0.77109169 0.74385038 0.71193332 0.68733482\n",
      " 0.67818662 0.65257166 0.64301687 0.65643423 0.67656028 0.67371417\n",
      " 0.65114861 0.65521447 0.66761537 0.67838992 0.69993901 0.63122586\n",
      " 0.63508843 0.64098394 0.64545639 0.64118723 0.63854442 0.63081927\n",
      " 0.62472047 0.6330555  0.64728603 0.6574507  0.66761537 0.66720878\n",
      " 0.64159382 0.62776987 0.63651149 0.63630819 0.62980281 0.62817646\n",
      " 0.63813783 0.65358813 0.63183574 0.57653995 0.57816629 0.57613336\n",
      " 0.61943484 0.57979264 0.57288067 0.62573694 0.63102257 0.6361049\n",
      " 0.62776987 0.6269567  0.63590161 0.62594023 0.6391543  0.62614353\n",
      " 0.62268754 0.59838837 0.56540287 0.53370196 0.50761563 0.48605517\n",
      " 0.4687334  0.454384   0.44238734 0.43203685 0.42278525 0.41478142\n",
      " 0.40771815 0.40139115 0.39564735 0.39037335 0.38549018 0.38094595\n",
      " 0.37670791 0.3727555  0.36907533 0.36565694]\n",
      "21 day output [[0.3624893]]\n",
      "22 day input [0.75991055 0.7584875  0.76621264 0.75462492 0.76316324 0.79670665\n",
      " 0.80585485 0.7889815  0.78003659 0.73978451 0.73002643 0.73490547\n",
      " 0.74872942 0.75991055 0.75462492 0.75401504 0.76174019 0.7737345\n",
      " 0.82008538 0.80585485 0.81154706 0.77434438 0.78633869 0.79284407\n",
      " 0.78328929 0.77109169 0.74385038 0.71193332 0.68733482 0.67818662\n",
      " 0.65257166 0.64301687 0.65643423 0.67656028 0.67371417 0.65114861\n",
      " 0.65521447 0.66761537 0.67838992 0.69993901 0.63122586 0.63508843\n",
      " 0.64098394 0.64545639 0.64118723 0.63854442 0.63081927 0.62472047\n",
      " 0.6330555  0.64728603 0.6574507  0.66761537 0.66720878 0.64159382\n",
      " 0.62776987 0.63651149 0.63630819 0.62980281 0.62817646 0.63813783\n",
      " 0.65358813 0.63183574 0.57653995 0.57816629 0.57613336 0.61943484\n",
      " 0.57979264 0.57288067 0.62573694 0.63102257 0.6361049  0.62776987\n",
      " 0.6269567  0.63590161 0.62594023 0.6391543  0.62614353 0.62268754\n",
      " 0.59838837 0.56540287 0.53370196 0.50761563 0.48605517 0.4687334\n",
      " 0.454384   0.44238734 0.43203685 0.42278525 0.41478142 0.40771815\n",
      " 0.40139115 0.39564735 0.39037335 0.38549018 0.38094595 0.37670791\n",
      " 0.3727555  0.36907533 0.36565694 0.36248931]\n",
      "22 day output [[0.3595614]]\n",
      "23 day input [0.7584875  0.76621264 0.75462492 0.76316324 0.79670665 0.80585485\n",
      " 0.7889815  0.78003659 0.73978451 0.73002643 0.73490547 0.74872942\n",
      " 0.75991055 0.75462492 0.75401504 0.76174019 0.7737345  0.82008538\n",
      " 0.80585485 0.81154706 0.77434438 0.78633869 0.79284407 0.78328929\n",
      " 0.77109169 0.74385038 0.71193332 0.68733482 0.67818662 0.65257166\n",
      " 0.64301687 0.65643423 0.67656028 0.67371417 0.65114861 0.65521447\n",
      " 0.66761537 0.67838992 0.69993901 0.63122586 0.63508843 0.64098394\n",
      " 0.64545639 0.64118723 0.63854442 0.63081927 0.62472047 0.6330555\n",
      " 0.64728603 0.6574507  0.66761537 0.66720878 0.64159382 0.62776987\n",
      " 0.63651149 0.63630819 0.62980281 0.62817646 0.63813783 0.65358813\n",
      " 0.63183574 0.57653995 0.57816629 0.57613336 0.61943484 0.57979264\n",
      " 0.57288067 0.62573694 0.63102257 0.6361049  0.62776987 0.6269567\n",
      " 0.63590161 0.62594023 0.6391543  0.62614353 0.62268754 0.59838837\n",
      " 0.56540287 0.53370196 0.50761563 0.48605517 0.4687334  0.454384\n",
      " 0.44238734 0.43203685 0.42278525 0.41478142 0.40771815 0.40139115\n",
      " 0.39564735 0.39037335 0.38549018 0.38094595 0.37670791 0.3727555\n",
      " 0.36907533 0.36565694 0.36248931 0.35956141]\n",
      "23 day output [[0.35686013]]\n",
      "24 day input [0.76621264 0.75462492 0.76316324 0.79670665 0.80585485 0.7889815\n",
      " 0.78003659 0.73978451 0.73002643 0.73490547 0.74872942 0.75991055\n",
      " 0.75462492 0.75401504 0.76174019 0.7737345  0.82008538 0.80585485\n",
      " 0.81154706 0.77434438 0.78633869 0.79284407 0.78328929 0.77109169\n",
      " 0.74385038 0.71193332 0.68733482 0.67818662 0.65257166 0.64301687\n",
      " 0.65643423 0.67656028 0.67371417 0.65114861 0.65521447 0.66761537\n",
      " 0.67838992 0.69993901 0.63122586 0.63508843 0.64098394 0.64545639\n",
      " 0.64118723 0.63854442 0.63081927 0.62472047 0.6330555  0.64728603\n",
      " 0.6574507  0.66761537 0.66720878 0.64159382 0.62776987 0.63651149\n",
      " 0.63630819 0.62980281 0.62817646 0.63813783 0.65358813 0.63183574\n",
      " 0.57653995 0.57816629 0.57613336 0.61943484 0.57979264 0.57288067\n",
      " 0.62573694 0.63102257 0.6361049  0.62776987 0.6269567  0.63590161\n",
      " 0.62594023 0.6391543  0.62614353 0.62268754 0.59838837 0.56540287\n",
      " 0.53370196 0.50761563 0.48605517 0.4687334  0.454384   0.44238734\n",
      " 0.43203685 0.42278525 0.41478142 0.40771815 0.40139115 0.39564735\n",
      " 0.39037335 0.38549018 0.38094595 0.37670791 0.3727555  0.36907533\n",
      " 0.36565694 0.36248931 0.35956141 0.35686013]\n",
      "24 day output [[0.35437006]]\n",
      "25 day input [0.75462492 0.76316324 0.79670665 0.80585485 0.7889815  0.78003659\n",
      " 0.73978451 0.73002643 0.73490547 0.74872942 0.75991055 0.75462492\n",
      " 0.75401504 0.76174019 0.7737345  0.82008538 0.80585485 0.81154706\n",
      " 0.77434438 0.78633869 0.79284407 0.78328929 0.77109169 0.74385038\n",
      " 0.71193332 0.68733482 0.67818662 0.65257166 0.64301687 0.65643423\n",
      " 0.67656028 0.67371417 0.65114861 0.65521447 0.66761537 0.67838992\n",
      " 0.69993901 0.63122586 0.63508843 0.64098394 0.64545639 0.64118723\n",
      " 0.63854442 0.63081927 0.62472047 0.6330555  0.64728603 0.6574507\n",
      " 0.66761537 0.66720878 0.64159382 0.62776987 0.63651149 0.63630819\n",
      " 0.62980281 0.62817646 0.63813783 0.65358813 0.63183574 0.57653995\n",
      " 0.57816629 0.57613336 0.61943484 0.57979264 0.57288067 0.62573694\n",
      " 0.63102257 0.6361049  0.62776987 0.6269567  0.63590161 0.62594023\n",
      " 0.6391543  0.62614353 0.62268754 0.59838837 0.56540287 0.53370196\n",
      " 0.50761563 0.48605517 0.4687334  0.454384   0.44238734 0.43203685\n",
      " 0.42278525 0.41478142 0.40771815 0.40139115 0.39564735 0.39037335\n",
      " 0.38549018 0.38094595 0.37670791 0.3727555  0.36907533 0.36565694\n",
      " 0.36248931 0.35956141 0.35686013 0.35437006]\n",
      "25 day output [[0.3520751]]\n",
      "26 day input [0.76316324 0.79670665 0.80585485 0.7889815  0.78003659 0.73978451\n",
      " 0.73002643 0.73490547 0.74872942 0.75991055 0.75462492 0.75401504\n",
      " 0.76174019 0.7737345  0.82008538 0.80585485 0.81154706 0.77434438\n",
      " 0.78633869 0.79284407 0.78328929 0.77109169 0.74385038 0.71193332\n",
      " 0.68733482 0.67818662 0.65257166 0.64301687 0.65643423 0.67656028\n",
      " 0.67371417 0.65114861 0.65521447 0.66761537 0.67838992 0.69993901\n",
      " 0.63122586 0.63508843 0.64098394 0.64545639 0.64118723 0.63854442\n",
      " 0.63081927 0.62472047 0.6330555  0.64728603 0.6574507  0.66761537\n",
      " 0.66720878 0.64159382 0.62776987 0.63651149 0.63630819 0.62980281\n",
      " 0.62817646 0.63813783 0.65358813 0.63183574 0.57653995 0.57816629\n",
      " 0.57613336 0.61943484 0.57979264 0.57288067 0.62573694 0.63102257\n",
      " 0.6361049  0.62776987 0.6269567  0.63590161 0.62594023 0.6391543\n",
      " 0.62614353 0.62268754 0.59838837 0.56540287 0.53370196 0.50761563\n",
      " 0.48605517 0.4687334  0.454384   0.44238734 0.43203685 0.42278525\n",
      " 0.41478142 0.40771815 0.40139115 0.39564735 0.39037335 0.38549018\n",
      " 0.38094595 0.37670791 0.3727555  0.36907533 0.36565694 0.36248931\n",
      " 0.35956141 0.35686013 0.35437006 0.3520751 ]\n",
      "26 day output [[0.34995794]]\n",
      "27 day input [0.79670665 0.80585485 0.7889815  0.78003659 0.73978451 0.73002643\n",
      " 0.73490547 0.74872942 0.75991055 0.75462492 0.75401504 0.76174019\n",
      " 0.7737345  0.82008538 0.80585485 0.81154706 0.77434438 0.78633869\n",
      " 0.79284407 0.78328929 0.77109169 0.74385038 0.71193332 0.68733482\n",
      " 0.67818662 0.65257166 0.64301687 0.65643423 0.67656028 0.67371417\n",
      " 0.65114861 0.65521447 0.66761537 0.67838992 0.69993901 0.63122586\n",
      " 0.63508843 0.64098394 0.64545639 0.64118723 0.63854442 0.63081927\n",
      " 0.62472047 0.6330555  0.64728603 0.6574507  0.66761537 0.66720878\n",
      " 0.64159382 0.62776987 0.63651149 0.63630819 0.62980281 0.62817646\n",
      " 0.63813783 0.65358813 0.63183574 0.57653995 0.57816629 0.57613336\n",
      " 0.61943484 0.57979264 0.57288067 0.62573694 0.63102257 0.6361049\n",
      " 0.62776987 0.6269567  0.63590161 0.62594023 0.6391543  0.62614353\n",
      " 0.62268754 0.59838837 0.56540287 0.53370196 0.50761563 0.48605517\n",
      " 0.4687334  0.454384   0.44238734 0.43203685 0.42278525 0.41478142\n",
      " 0.40771815 0.40139115 0.39564735 0.39037335 0.38549018 0.38094595\n",
      " 0.37670791 0.3727555  0.36907533 0.36565694 0.36248931 0.35956141\n",
      " 0.35686013 0.35437006 0.3520751  0.34995794]\n"
     ]
    },
    {
     "name": "stdout",
     "output_type": "stream",
     "text": [
      "27 day output [[0.3480013]]\n",
      "[[0.5983883738517761], [0.5654028654098511], [0.5337019562721252], [0.5076156258583069], [0.4860551655292511], [0.46873340010643005], [0.4543839991092682], [0.44238734245300293], [0.4320368468761444], [0.4227852523326874], [0.4147814214229584], [0.40771815180778503], [0.4013911485671997], [0.3956473469734192], [0.3903733491897583], [0.38549017906188965], [0.38094595074653625], [0.37670791149139404], [0.3727554976940155], [0.36907532811164856], [0.36565694212913513], [0.3624893128871918], [0.35956141352653503], [0.35686013102531433], [0.3543700575828552], [0.35207509994506836], [0.3499579429626465], [0.34800130128860474]]\n"
     ]
    }
   ],
   "source": [
    "temp_input = list(x_input)\n",
    "temp_input = temp_input[0].tolist()\n",
    "\n",
    "lst_output=[]\n",
    "n_steps=100\n",
    "nextNumberOfDays = 28\n",
    "i=0\n",
    "\n",
    "while(i<nextNumberOfDays):\n",
    "    \n",
    "    if(len(temp_input)>100):\n",
    "        x_input=np.array(temp_input[1:])\n",
    "        print(\"{} day input {}\".format(i,x_input))\n",
    "        x_input=x_input.reshape(1,-1)\n",
    "        x_input = x_input.reshape((1, n_steps, 1))\n",
    "        yhat = model.predict(x_input, verbose=0)\n",
    "        print(\"{} day output {}\".format(i,yhat))\n",
    "        temp_input.extend(yhat[0].tolist())\n",
    "        temp_input=temp_input[1:]\n",
    "        lst_output.extend(yhat.tolist())\n",
    "        i=i+1\n",
    "    else:\n",
    "        x_input = x_input.reshape((1, n_steps,1))\n",
    "        yhat = model.predict(x_input, verbose=0)\n",
    "        print(yhat[0])\n",
    "        temp_input.extend(yhat[0].tolist())\n",
    "        print(len(temp_input))\n",
    "        lst_output.extend(yhat.tolist())\n",
    "        i=i+1\n",
    "    \n",
    "print(lst_output)"
   ]
  },
  {
   "cell_type": "code",
   "execution_count": 76,
   "metadata": {
    "execution": {
     "iopub.execute_input": "2022-04-11T05:54:12.617495Z",
     "iopub.status.busy": "2022-04-11T05:54:12.617228Z",
     "iopub.status.idle": "2022-04-11T05:54:12.622049Z",
     "shell.execute_reply": "2022-04-11T05:54:12.621367Z",
     "shell.execute_reply.started": "2022-04-11T05:54:12.617467Z"
    }
   },
   "outputs": [],
   "source": [
    "day_new = np.arange(1,101)\n",
    "day_pred = np.arange(101,129)"
   ]
  },
  {
   "cell_type": "code",
   "execution_count": 77,
   "metadata": {
    "execution": {
     "iopub.execute_input": "2022-04-11T05:54:15.246995Z",
     "iopub.status.busy": "2022-04-11T05:54:15.246488Z",
     "iopub.status.idle": "2022-04-11T05:54:15.253022Z",
     "shell.execute_reply": "2022-04-11T05:54:15.251934Z",
     "shell.execute_reply.started": "2022-04-11T05:54:15.246954Z"
    }
   },
   "outputs": [
    {
     "data": {
      "text/plain": [
       "(100,)"
      ]
     },
     "execution_count": 77,
     "metadata": {},
     "output_type": "execute_result"
    }
   ],
   "source": [
    "day_new.shape"
   ]
  },
  {
   "cell_type": "code",
   "execution_count": 78,
   "metadata": {
    "execution": {
     "iopub.execute_input": "2022-04-11T05:54:16.437956Z",
     "iopub.status.busy": "2022-04-11T05:54:16.437364Z",
     "iopub.status.idle": "2022-04-11T05:54:16.444225Z",
     "shell.execute_reply": "2022-04-11T05:54:16.443341Z",
     "shell.execute_reply.started": "2022-04-11T05:54:16.437920Z"
    }
   },
   "outputs": [
    {
     "data": {
      "text/plain": [
       "(28,)"
      ]
     },
     "execution_count": 78,
     "metadata": {},
     "output_type": "execute_result"
    }
   ],
   "source": [
    "day_pred.shape"
   ]
  },
  {
   "cell_type": "code",
   "execution_count": 80,
   "metadata": {
    "execution": {
     "iopub.execute_input": "2022-04-11T05:54:17.644086Z",
     "iopub.status.busy": "2022-04-11T05:54:17.641985Z",
     "iopub.status.idle": "2022-04-11T05:54:17.649163Z",
     "shell.execute_reply": "2022-04-11T05:54:17.648472Z",
     "shell.execute_reply.started": "2022-04-11T05:54:17.644049Z"
    }
   },
   "outputs": [
    {
     "data": {
      "text/plain": [
       "2035"
      ]
     },
     "execution_count": 80,
     "metadata": {},
     "output_type": "execute_result"
    }
   ],
   "source": [
    "len(data_high)"
   ]
  },
  {
   "cell_type": "code",
   "execution_count": 82,
   "metadata": {
    "execution": {
     "iopub.execute_input": "2022-04-11T05:54:18.949955Z",
     "iopub.status.busy": "2022-04-11T05:54:18.949154Z",
     "iopub.status.idle": "2022-04-11T05:54:19.143782Z",
     "shell.execute_reply": "2022-04-11T05:54:19.143084Z",
     "shell.execute_reply.started": "2022-04-11T05:54:18.949910Z"
    }
   },
   "outputs": [
    {
     "data": {
      "text/plain": [
       "[<matplotlib.lines.Line2D at 0x1cbdfca45e0>]"
      ]
     },
     "execution_count": 82,
     "metadata": {},
     "output_type": "execute_result"
    },
    {
     "data": {
      "image/png": "[encoded data removed]",
      "text/plain": [
       "<Figure size 432x288 with 1 Axes>"
      ]
     },
     "metadata": {
      "needs_background": "light"
     },
     "output_type": "display_data"
    }
   ],
   "source": [
    "plt.plot(day_new, scaler.inverse_transform(data_high[1935:]))\n",
    "plt.plot(day_pred, scaler.inverse_transform(lst_output))"
   ]
  },
  {
   "cell_type": "code",
   "execution_count": 83,
   "metadata": {
    "execution": {
     "iopub.execute_input": "2022-04-11T05:54:20.336692Z",
     "iopub.status.busy": "2022-04-11T05:54:20.336060Z",
     "iopub.status.idle": "2022-04-11T05:54:20.530044Z",
     "shell.execute_reply": "2022-04-11T05:54:20.529273Z",
     "shell.execute_reply.started": "2022-04-11T05:54:20.336651Z"
    }
   },
   "outputs": [
    {
     "data": {
      "text/plain": [
       "[<matplotlib.lines.Line2D at 0x1cbd310ed00>]"
      ]
     },
     "execution_count": 83,
     "metadata": {},
     "output_type": "execute_result"
    },
    {
     "data": {
      "image/png": "[encoded data removed]",
      "text/plain": [
       "<Figure size 432x288 with 1 Axes>"
      ]
     },
     "metadata": {
      "needs_background": "light"
     },
     "output_type": "display_data"
    }
   ],
   "source": [
    "data_new = data_high.tolist()\n",
    "data_new.extend(lst_output)\n",
    "plt.plot(data_new[2000:])"
   ]
  },
  {
   "cell_type": "code",
   "execution_count": 84,
   "metadata": {
    "execution": {
     "iopub.execute_input": "2022-04-11T05:54:34.594793Z",
     "iopub.status.busy": "2022-04-11T05:54:34.594222Z",
     "iopub.status.idle": "2022-04-11T05:54:34.602829Z",
     "shell.execute_reply": "2022-04-11T05:54:34.602056Z",
     "shell.execute_reply.started": "2022-04-11T05:54:34.594755Z"
    }
   },
   "outputs": [],
   "source": [
    "data_new =scaler.inverse_transform(data_new).tolist()"
   ]
  },
  {
   "cell_type": "code",
   "execution_count": 85,
   "metadata": {
    "execution": {
     "iopub.execute_input": "2022-04-11T05:54:35.850916Z",
     "iopub.status.busy": "2022-04-11T05:54:35.850359Z",
     "iopub.status.idle": "2022-04-11T05:54:36.029233Z",
     "shell.execute_reply": "2022-04-11T05:54:36.028312Z",
     "shell.execute_reply.started": "2022-04-11T05:54:35.850879Z"
    }
   },
   "outputs": [
    {
     "data": {
      "text/plain": [
       "[<matplotlib.lines.Line2D at 0x1cbdff6d880>]"
      ]
     },
     "execution_count": 85,
     "metadata": {},
     "output_type": "execute_result"
    },
    {
     "data": {
      "image/png": "[encoded data removed]",
      "text/plain": [
       "<Figure size 432x288 with 1 Axes>"
      ]
     },
     "metadata": {
      "needs_background": "light"
     },
     "output_type": "display_data"
    }
   ],
   "source": [
    "plt.plot(data_new)"
   ]
  },
  {
   "cell_type": "code",
   "execution_count": null,
   "metadata": {},
   "outputs": [],
   "source": []
  }
 ],
 "metadata": {
  "kernelspec": {
   "display_name": "Python 3 (ipykernel)",
   "language": "python",
   "name": "python3"
  },
  "language_info": {
   "codemirror_mode": {
    "name": "ipython",
    "version": 3
   },
   "file_extension": ".py",
   "mimetype": "text/x-python",
   "name": "python",
   "nbconvert_exporter": "python",
   "pygments_lexer": "ipython3",
   "version": "3.9.12"
  }
 },
 "nbformat": 4,
 "nbformat_minor": 4
}
